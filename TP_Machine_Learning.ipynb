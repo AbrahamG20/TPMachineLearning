{
 "cells": [
  {
   "cell_type": "markdown",
   "source": [
    "## Inicializando Librerías"
   ],
   "metadata": {
    "collapsed": false
   }
  },
  {
   "cell_type": "code",
   "metadata": {
    "id": "P9nhvhmPEytQ",
    "colab_type": "code",
    "colab": {
     "base_uri": "https://localhost:8080/",
     "height": 296
    },
    "outputId": "4db841d9-5a66-47fc-f6db-fe903ab29e15",
    "pycharm": {
     "name": "#%%\n"
    }
   },
   "source": [
    "import sklearn\n",
    "import numpy as np\n",
    "import seaborn as sb\n",
    "import matplotlib.pylab as plt\n",
    "\n"
   ],
   "execution_count": 3,
   "outputs": []
  },
  {
   "cell_type": "code",
   "execution_count": null,
   "metadata": {},
   "outputs": [],
   "source": []
  }
 ],
 "metadata": {
  "colab": {
   "name": "TP_Machine Learning.ipynb",
   "provenance": [],
   "authorship_tag": "ABX9TyMT1y+WNKKysoxwoi1XlMiJ",
   "include_colab_link": true
  },
  "kernelspec": {
   "name": "python3",
   "display_name": "Python 3"
  }
 },
 "nbformat": 4,
 "nbformat_minor": 0
}