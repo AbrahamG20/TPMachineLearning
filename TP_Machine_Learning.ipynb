{
 "cells": [
  {
   "cell_type": "markdown",
   "source": [
    "## Inicializando Librerías"
   ],
   "metadata": {
    "collapsed": false
   }
  },
  {
   "cell_type": "code",
   "metadata": {
    "id": "P9nhvhmPEytQ",
    "colab_type": "code",
    "colab": {
     "base_uri": "https://localhost:8080/",
     "height": 296
    },
    "outputId": "4db841d9-5a66-47fc-f6db-fe903ab29e15",
    "pycharm": {
     "name": "#%%\n"
    }
   },
   "source": [
    "import sklearn\n",
    "import numpy as np\n",
    "import seaborn as sb\n",
    "import matplotlib.pylab as plt\n",
    "import pandas as pd"
   ],
   "execution_count": 1,
   "outputs": []
  },
  {
   "cell_type": "code",
   "execution_count": 2,
   "metadata": {},
   "outputs": [],
   "source": [
    "df = pd.read_csv('datos_banco.csv',encoding = \"ISO-8859-1\")"
   ]
  },
  {
   "cell_type": "code",
   "execution_count": 3,
   "metadata": {},
   "outputs": [
    {
     "output_type": "execute_result",
     "data": {
      "text/plain": "          idPrestamo  target monthly_debt_capacity  \\\n0  LIBDISP9832897855       1                252.39   \n1  LIBDISP9021501745       1                244.57   \n2  LIBDISP4057314971       0                 491.5   \n3  LIBDISP8375185888       0                848.65   \n4  LIBDISP9694463037       0                470.52   \n\n   var_employment_time_in_months approved_amount  approved_term  \\\n0                            9.0           1,200              6   \n1                           50.0           2,200             12   \n2                           64.0           1,000              3   \n3                           77.0           1,500              6   \n4                           82.0           1,000              3   \n\n  approved_interest_amount  var_net_income person_gender  \\\n0                   289.11     1140.125000          MALE   \n1                   696.15     1061.375000        FEMALE   \n2                    84.99     2082.196667        FEMALE   \n3                   221.53     3422.423333          MALE   \n4                    91.34     1882.090000        FEMALE   \n\n  credit_history_marital_status var_max_sbs_qual_12m person_degree_type_desc  \\\n0                             C               NORMAL              Secundaria   \n1                             S               NORMAL              Secundaria   \n2                             S               NORMAL              Secundaria   \n3                             S               NORMAL           Universitaria   \n4                             S               NORMAL           Universitaria   \n\n   default_request_term  default_request_amount  \n0                     1                       0  \n1                     0                       0  \n2                     0                       0  \n3                     0                       0  \n4                     1                       0  ",
      "text/html": "<div>\n<style scoped>\n    .dataframe tbody tr th:only-of-type {\n        vertical-align: middle;\n    }\n\n    .dataframe tbody tr th {\n        vertical-align: top;\n    }\n\n    .dataframe thead th {\n        text-align: right;\n    }\n</style>\n<table border=\"1\" class=\"dataframe\">\n  <thead>\n    <tr style=\"text-align: right;\">\n      <th></th>\n      <th>idPrestamo</th>\n      <th>target</th>\n      <th>monthly_debt_capacity</th>\n      <th>var_employment_time_in_months</th>\n      <th>approved_amount</th>\n      <th>approved_term</th>\n      <th>approved_interest_amount</th>\n      <th>var_net_income</th>\n      <th>person_gender</th>\n      <th>credit_history_marital_status</th>\n      <th>var_max_sbs_qual_12m</th>\n      <th>person_degree_type_desc</th>\n      <th>default_request_term</th>\n      <th>default_request_amount</th>\n    </tr>\n  </thead>\n  <tbody>\n    <tr>\n      <th>0</th>\n      <td>LIBDISP9832897855</td>\n      <td>1</td>\n      <td>252.39</td>\n      <td>9.0</td>\n      <td>1,200</td>\n      <td>6</td>\n      <td>289.11</td>\n      <td>1140.125000</td>\n      <td>MALE</td>\n      <td>C</td>\n      <td>NORMAL</td>\n      <td>Secundaria</td>\n      <td>1</td>\n      <td>0</td>\n    </tr>\n    <tr>\n      <th>1</th>\n      <td>LIBDISP9021501745</td>\n      <td>1</td>\n      <td>244.57</td>\n      <td>50.0</td>\n      <td>2,200</td>\n      <td>12</td>\n      <td>696.15</td>\n      <td>1061.375000</td>\n      <td>FEMALE</td>\n      <td>S</td>\n      <td>NORMAL</td>\n      <td>Secundaria</td>\n      <td>0</td>\n      <td>0</td>\n    </tr>\n    <tr>\n      <th>2</th>\n      <td>LIBDISP4057314971</td>\n      <td>0</td>\n      <td>491.5</td>\n      <td>64.0</td>\n      <td>1,000</td>\n      <td>3</td>\n      <td>84.99</td>\n      <td>2082.196667</td>\n      <td>FEMALE</td>\n      <td>S</td>\n      <td>NORMAL</td>\n      <td>Secundaria</td>\n      <td>0</td>\n      <td>0</td>\n    </tr>\n    <tr>\n      <th>3</th>\n      <td>LIBDISP8375185888</td>\n      <td>0</td>\n      <td>848.65</td>\n      <td>77.0</td>\n      <td>1,500</td>\n      <td>6</td>\n      <td>221.53</td>\n      <td>3422.423333</td>\n      <td>MALE</td>\n      <td>S</td>\n      <td>NORMAL</td>\n      <td>Universitaria</td>\n      <td>0</td>\n      <td>0</td>\n    </tr>\n    <tr>\n      <th>4</th>\n      <td>LIBDISP9694463037</td>\n      <td>0</td>\n      <td>470.52</td>\n      <td>82.0</td>\n      <td>1,000</td>\n      <td>3</td>\n      <td>91.34</td>\n      <td>1882.090000</td>\n      <td>FEMALE</td>\n      <td>S</td>\n      <td>NORMAL</td>\n      <td>Universitaria</td>\n      <td>1</td>\n      <td>0</td>\n    </tr>\n  </tbody>\n</table>\n</div>"
     },
     "metadata": {},
     "execution_count": 3
    }
   ],
   "source": [
    "df.head()"
   ]
  },
  {
   "cell_type": "code",
   "execution_count": 4,
   "metadata": {},
   "outputs": [
    {
     "output_type": "execute_result",
     "data": {
      "text/plain": "(1719, 14)"
     },
     "metadata": {},
     "execution_count": 4
    }
   ],
   "source": [
    "df.shape"
   ]
  },
  {
   "cell_type": "code",
   "execution_count": 6,
   "metadata": {},
   "outputs": [
    {
     "output_type": "execute_result",
     "data": {
      "text/plain": "person_degree_type_desc\nCarrera TÃÂ©cnica    432\nCarrera TÌÄå©cnica    192\nPostgrado              65\nPrimaria                3\nSecundaria            220\nUniversitaria         807\ndtype: int64"
     },
     "metadata": {},
     "execution_count": 6
    }
   ],
   "source": [
    "df.groupby('person_degree_type_desc').size()"
   ]
  },
  {
   "cell_type": "code",
   "execution_count": 7,
   "metadata": {},
   "outputs": [
    {
     "output_type": "execute_result",
     "data": {
      "text/plain": "            target  var_employment_time_in_months  approved_term  \\\ncount  1719.000000                    1519.000000    1719.000000   \nmean      0.295521                      33.979592       6.464805   \nstd       0.456409                      26.889423       3.009842   \nmin       0.000000                      -1.000000       1.000000   \n25%       0.000000                      11.000000       6.000000   \n50%       0.000000                      26.000000       6.000000   \n75%       1.000000                      61.000000       6.000000   \nmax       1.000000                      87.000000      12.000000   \n\n       var_net_income  default_request_term  default_request_amount  \ncount     1719.000000           1719.000000                  1719.0  \nmean      2693.545884              0.507853                     0.0  \nstd       1825.694773              0.500084                     0.0  \nmin          0.000000              0.000000                     0.0  \n25%       1750.000000              0.000000                     0.0  \n50%       2373.758333              1.000000                     0.0  \n75%       3075.133333              1.000000                     0.0  \nmax      28587.000000              1.000000                     0.0  ",
      "text/html": "<div>\n<style scoped>\n    .dataframe tbody tr th:only-of-type {\n        vertical-align: middle;\n    }\n\n    .dataframe tbody tr th {\n        vertical-align: top;\n    }\n\n    .dataframe thead th {\n        text-align: right;\n    }\n</style>\n<table border=\"1\" class=\"dataframe\">\n  <thead>\n    <tr style=\"text-align: right;\">\n      <th></th>\n      <th>target</th>\n      <th>var_employment_time_in_months</th>\n      <th>approved_term</th>\n      <th>var_net_income</th>\n      <th>default_request_term</th>\n      <th>default_request_amount</th>\n    </tr>\n  </thead>\n  <tbody>\n    <tr>\n      <th>count</th>\n      <td>1719.000000</td>\n      <td>1519.000000</td>\n      <td>1719.000000</td>\n      <td>1719.000000</td>\n      <td>1719.000000</td>\n      <td>1719.0</td>\n    </tr>\n    <tr>\n      <th>mean</th>\n      <td>0.295521</td>\n      <td>33.979592</td>\n      <td>6.464805</td>\n      <td>2693.545884</td>\n      <td>0.507853</td>\n      <td>0.0</td>\n    </tr>\n    <tr>\n      <th>std</th>\n      <td>0.456409</td>\n      <td>26.889423</td>\n      <td>3.009842</td>\n      <td>1825.694773</td>\n      <td>0.500084</td>\n      <td>0.0</td>\n    </tr>\n    <tr>\n      <th>min</th>\n      <td>0.000000</td>\n      <td>-1.000000</td>\n      <td>1.000000</td>\n      <td>0.000000</td>\n      <td>0.000000</td>\n      <td>0.0</td>\n    </tr>\n    <tr>\n      <th>25%</th>\n      <td>0.000000</td>\n      <td>11.000000</td>\n      <td>6.000000</td>\n      <td>1750.000000</td>\n      <td>0.000000</td>\n      <td>0.0</td>\n    </tr>\n    <tr>\n      <th>50%</th>\n      <td>0.000000</td>\n      <td>26.000000</td>\n      <td>6.000000</td>\n      <td>2373.758333</td>\n      <td>1.000000</td>\n      <td>0.0</td>\n    </tr>\n    <tr>\n      <th>75%</th>\n      <td>1.000000</td>\n      <td>61.000000</td>\n      <td>6.000000</td>\n      <td>3075.133333</td>\n      <td>1.000000</td>\n      <td>0.0</td>\n    </tr>\n    <tr>\n      <th>max</th>\n      <td>1.000000</td>\n      <td>87.000000</td>\n      <td>12.000000</td>\n      <td>28587.000000</td>\n      <td>1.000000</td>\n      <td>0.0</td>\n    </tr>\n  </tbody>\n</table>\n</div>"
     },
     "metadata": {},
     "execution_count": 7
    }
   ],
   "source": [
    "df.describe()"
   ]
  },
  {
   "cell_type": "code",
   "execution_count": null,
   "metadata": {},
   "outputs": [],
   "source": []
  }
 ],
 "metadata": {
  "colab": {
   "name": "TP_Machine Learning.ipynb",
   "provenance": [],
   "authorship_tag": "ABX9TyMT1y+WNKKysoxwoi1XlMiJ",
   "include_colab_link": true
  },
  "kernelspec": {
   "name": "python_defaultSpec_1600486184452",
   "display_name": "Python 3.8.5 32-bit"
  }
 },
 "nbformat": 4,
 "nbformat_minor": 0
}