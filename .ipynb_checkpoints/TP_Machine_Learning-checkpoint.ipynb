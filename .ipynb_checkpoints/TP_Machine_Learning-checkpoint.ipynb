{
 "cells": [
  {
   "cell_type": "markdown",
   "metadata": {},
   "source": [
    "# Análisis Exploratorio"
   ]
  },
  {
   "cell_type": "markdown",
   "metadata": {},
   "source": [
    "## 1.Inicializando Librerías"
   ]
  },
  {
   "cell_type": "code",
   "execution_count": 1,
   "metadata": {
    "colab": {
     "base_uri": "https://localhost:8080/",
     "height": 296
    },
    "colab_type": "code",
    "id": "P9nhvhmPEytQ",
    "outputId": "4db841d9-5a66-47fc-f6db-fe903ab29e15",
    "pycharm": {
     "name": "#%%\n"
    },
    "scrolled": true
   },
   "outputs": [],
   "source": [
    "import sklearn\n",
    "import numpy as np\n",
    "import seaborn as sb\n",
    "import matplotlib.pylab as plt\n",
    "import pandas as pd"
   ]
  },
  {
   "cell_type": "markdown",
   "metadata": {},
   "source": [
    "## 2.Lectura del Dataset"
   ]
  },
  {
   "cell_type": "code",
   "execution_count": 2,
   "metadata": {},
   "outputs": [],
   "source": [
    "df = pd.read_csv('datos_banco.csv', encoding = \"ISO-8859-1\")"
   ]
  },
  {
   "cell_type": "code",
   "execution_count": 3,
   "metadata": {},
   "outputs": [
    {
     "data": {
      "text/html": [
       "<div>\n",
       "<style scoped>\n",
       "    .dataframe tbody tr th:only-of-type {\n",
       "        vertical-align: middle;\n",
       "    }\n",
       "\n",
       "    .dataframe tbody tr th {\n",
       "        vertical-align: top;\n",
       "    }\n",
       "\n",
       "    .dataframe thead th {\n",
       "        text-align: right;\n",
       "    }\n",
       "</style>\n",
       "<table border=\"1\" class=\"dataframe\">\n",
       "  <thead>\n",
       "    <tr style=\"text-align: right;\">\n",
       "      <th></th>\n",
       "      <th>idPrestamo</th>\n",
       "      <th>target</th>\n",
       "      <th>monthly_debt_capacity</th>\n",
       "      <th>var_employment_time_in_months</th>\n",
       "      <th>approved_amount</th>\n",
       "      <th>approved_term</th>\n",
       "      <th>approved_interest_amount</th>\n",
       "      <th>var_net_income</th>\n",
       "      <th>person_gender</th>\n",
       "      <th>credit_history_marital_status</th>\n",
       "      <th>var_max_sbs_qual_12m</th>\n",
       "      <th>person_degree_type_desc</th>\n",
       "      <th>default_request_term</th>\n",
       "      <th>default_request_amount</th>\n",
       "    </tr>\n",
       "  </thead>\n",
       "  <tbody>\n",
       "    <tr>\n",
       "      <th>0</th>\n",
       "      <td>LIBDISP9832897855</td>\n",
       "      <td>1</td>\n",
       "      <td>252.39</td>\n",
       "      <td>9.0</td>\n",
       "      <td>1,200</td>\n",
       "      <td>6</td>\n",
       "      <td>289.11</td>\n",
       "      <td>1140.125000</td>\n",
       "      <td>MALE</td>\n",
       "      <td>C</td>\n",
       "      <td>NORMAL</td>\n",
       "      <td>Secundaria</td>\n",
       "      <td>1</td>\n",
       "      <td>0</td>\n",
       "    </tr>\n",
       "    <tr>\n",
       "      <th>1</th>\n",
       "      <td>LIBDISP9021501745</td>\n",
       "      <td>1</td>\n",
       "      <td>244.57</td>\n",
       "      <td>50.0</td>\n",
       "      <td>2,200</td>\n",
       "      <td>12</td>\n",
       "      <td>696.15</td>\n",
       "      <td>1061.375000</td>\n",
       "      <td>FEMALE</td>\n",
       "      <td>S</td>\n",
       "      <td>NORMAL</td>\n",
       "      <td>Secundaria</td>\n",
       "      <td>0</td>\n",
       "      <td>0</td>\n",
       "    </tr>\n",
       "    <tr>\n",
       "      <th>2</th>\n",
       "      <td>LIBDISP4057314971</td>\n",
       "      <td>0</td>\n",
       "      <td>491.5</td>\n",
       "      <td>64.0</td>\n",
       "      <td>1,000</td>\n",
       "      <td>3</td>\n",
       "      <td>84.99</td>\n",
       "      <td>2082.196667</td>\n",
       "      <td>FEMALE</td>\n",
       "      <td>S</td>\n",
       "      <td>NORMAL</td>\n",
       "      <td>Secundaria</td>\n",
       "      <td>0</td>\n",
       "      <td>0</td>\n",
       "    </tr>\n",
       "    <tr>\n",
       "      <th>3</th>\n",
       "      <td>LIBDISP8375185888</td>\n",
       "      <td>0</td>\n",
       "      <td>848.65</td>\n",
       "      <td>77.0</td>\n",
       "      <td>1,500</td>\n",
       "      <td>6</td>\n",
       "      <td>221.53</td>\n",
       "      <td>3422.423333</td>\n",
       "      <td>MALE</td>\n",
       "      <td>S</td>\n",
       "      <td>NORMAL</td>\n",
       "      <td>Universitaria</td>\n",
       "      <td>0</td>\n",
       "      <td>0</td>\n",
       "    </tr>\n",
       "    <tr>\n",
       "      <th>4</th>\n",
       "      <td>LIBDISP9694463037</td>\n",
       "      <td>0</td>\n",
       "      <td>470.52</td>\n",
       "      <td>82.0</td>\n",
       "      <td>1,000</td>\n",
       "      <td>3</td>\n",
       "      <td>91.34</td>\n",
       "      <td>1882.090000</td>\n",
       "      <td>FEMALE</td>\n",
       "      <td>S</td>\n",
       "      <td>NORMAL</td>\n",
       "      <td>Universitaria</td>\n",
       "      <td>1</td>\n",
       "      <td>0</td>\n",
       "    </tr>\n",
       "  </tbody>\n",
       "</table>\n",
       "</div>"
      ],
      "text/plain": [
       "          idPrestamo  target monthly_debt_capacity  \\\n",
       "0  LIBDISP9832897855       1                252.39   \n",
       "1  LIBDISP9021501745       1                244.57   \n",
       "2  LIBDISP4057314971       0                 491.5   \n",
       "3  LIBDISP8375185888       0                848.65   \n",
       "4  LIBDISP9694463037       0                470.52   \n",
       "\n",
       "   var_employment_time_in_months approved_amount  approved_term  \\\n",
       "0                            9.0           1,200              6   \n",
       "1                           50.0           2,200             12   \n",
       "2                           64.0           1,000              3   \n",
       "3                           77.0           1,500              6   \n",
       "4                           82.0           1,000              3   \n",
       "\n",
       "  approved_interest_amount  var_net_income person_gender  \\\n",
       "0                   289.11     1140.125000          MALE   \n",
       "1                   696.15     1061.375000        FEMALE   \n",
       "2                    84.99     2082.196667        FEMALE   \n",
       "3                   221.53     3422.423333          MALE   \n",
       "4                    91.34     1882.090000        FEMALE   \n",
       "\n",
       "  credit_history_marital_status var_max_sbs_qual_12m person_degree_type_desc  \\\n",
       "0                             C               NORMAL              Secundaria   \n",
       "1                             S               NORMAL              Secundaria   \n",
       "2                             S               NORMAL              Secundaria   \n",
       "3                             S               NORMAL           Universitaria   \n",
       "4                             S               NORMAL           Universitaria   \n",
       "\n",
       "   default_request_term  default_request_amount  \n",
       "0                     1                       0  \n",
       "1                     0                       0  \n",
       "2                     0                       0  \n",
       "3                     0                       0  \n",
       "4                     1                       0  "
      ]
     },
     "execution_count": 3,
     "metadata": {},
     "output_type": "execute_result"
    }
   ],
   "source": [
    "df.head(5)"
   ]
  },
  {
   "cell_type": "code",
   "execution_count": 4,
   "metadata": {},
   "outputs": [
    {
     "data": {
      "text/plain": [
       "(1719, 14)"
      ]
     },
     "execution_count": 4,
     "metadata": {},
     "output_type": "execute_result"
    }
   ],
   "source": [
    "df.shape"
   ]
  },
  {
   "cell_type": "markdown",
   "metadata": {},
   "source": [
    "## 3.Descartamos variables / Feature Selection"
   ]
  },
  {
   "cell_type": "code",
   "execution_count": 5,
   "metadata": {
    "tags": []
   },
   "outputs": [
    {
     "name": "stdout",
     "output_type": "stream",
     "text": [
      "shape of x_df =  (1719, 9)\n",
      "shape of y_df =  (1719,)\n"
     ]
    }
   ],
   "source": [
    "x_df = df.drop([\"target\",\"person_gender\",\"default_request_term\",\"default_request_amount\",\"person_degree_type_desc\"], axis = 1)\n",
    "\n",
    "y_df = df[\"target\"]\n",
    "\n",
    "print(\"shape of x_df = \", x_df.shape)\n",
    "print(\"shape of y_df = \", y_df.shape)"
   ]
  },
  {
   "cell_type": "code",
   "execution_count": 6,
   "metadata": {},
   "outputs": [
    {
     "data": {
      "text/html": [
       "<div>\n",
       "<style scoped>\n",
       "    .dataframe tbody tr th:only-of-type {\n",
       "        vertical-align: middle;\n",
       "    }\n",
       "\n",
       "    .dataframe tbody tr th {\n",
       "        vertical-align: top;\n",
       "    }\n",
       "\n",
       "    .dataframe thead th {\n",
       "        text-align: right;\n",
       "    }\n",
       "</style>\n",
       "<table border=\"1\" class=\"dataframe\">\n",
       "  <thead>\n",
       "    <tr style=\"text-align: right;\">\n",
       "      <th></th>\n",
       "      <th>idPrestamo</th>\n",
       "      <th>monthly_debt_capacity</th>\n",
       "      <th>var_employment_time_in_months</th>\n",
       "      <th>approved_amount</th>\n",
       "      <th>approved_term</th>\n",
       "      <th>approved_interest_amount</th>\n",
       "      <th>var_net_income</th>\n",
       "      <th>credit_history_marital_status</th>\n",
       "      <th>var_max_sbs_qual_12m</th>\n",
       "    </tr>\n",
       "  </thead>\n",
       "  <tbody>\n",
       "    <tr>\n",
       "      <th>0</th>\n",
       "      <td>LIBDISP9832897855</td>\n",
       "      <td>252.39</td>\n",
       "      <td>9.0</td>\n",
       "      <td>1,200</td>\n",
       "      <td>6</td>\n",
       "      <td>289.11</td>\n",
       "      <td>1140.125000</td>\n",
       "      <td>C</td>\n",
       "      <td>NORMAL</td>\n",
       "    </tr>\n",
       "    <tr>\n",
       "      <th>1</th>\n",
       "      <td>LIBDISP9021501745</td>\n",
       "      <td>244.57</td>\n",
       "      <td>50.0</td>\n",
       "      <td>2,200</td>\n",
       "      <td>12</td>\n",
       "      <td>696.15</td>\n",
       "      <td>1061.375000</td>\n",
       "      <td>S</td>\n",
       "      <td>NORMAL</td>\n",
       "    </tr>\n",
       "    <tr>\n",
       "      <th>2</th>\n",
       "      <td>LIBDISP4057314971</td>\n",
       "      <td>491.5</td>\n",
       "      <td>64.0</td>\n",
       "      <td>1,000</td>\n",
       "      <td>3</td>\n",
       "      <td>84.99</td>\n",
       "      <td>2082.196667</td>\n",
       "      <td>S</td>\n",
       "      <td>NORMAL</td>\n",
       "    </tr>\n",
       "    <tr>\n",
       "      <th>3</th>\n",
       "      <td>LIBDISP8375185888</td>\n",
       "      <td>848.65</td>\n",
       "      <td>77.0</td>\n",
       "      <td>1,500</td>\n",
       "      <td>6</td>\n",
       "      <td>221.53</td>\n",
       "      <td>3422.423333</td>\n",
       "      <td>S</td>\n",
       "      <td>NORMAL</td>\n",
       "    </tr>\n",
       "    <tr>\n",
       "      <th>4</th>\n",
       "      <td>LIBDISP9694463037</td>\n",
       "      <td>470.52</td>\n",
       "      <td>82.0</td>\n",
       "      <td>1,000</td>\n",
       "      <td>3</td>\n",
       "      <td>91.34</td>\n",
       "      <td>1882.090000</td>\n",
       "      <td>S</td>\n",
       "      <td>NORMAL</td>\n",
       "    </tr>\n",
       "  </tbody>\n",
       "</table>\n",
       "</div>"
      ],
      "text/plain": [
       "          idPrestamo monthly_debt_capacity  var_employment_time_in_months  \\\n",
       "0  LIBDISP9832897855                252.39                            9.0   \n",
       "1  LIBDISP9021501745                244.57                           50.0   \n",
       "2  LIBDISP4057314971                 491.5                           64.0   \n",
       "3  LIBDISP8375185888                848.65                           77.0   \n",
       "4  LIBDISP9694463037                470.52                           82.0   \n",
       "\n",
       "  approved_amount  approved_term approved_interest_amount  var_net_income  \\\n",
       "0           1,200              6                   289.11     1140.125000   \n",
       "1           2,200             12                   696.15     1061.375000   \n",
       "2           1,000              3                    84.99     2082.196667   \n",
       "3           1,500              6                   221.53     3422.423333   \n",
       "4           1,000              3                    91.34     1882.090000   \n",
       "\n",
       "  credit_history_marital_status var_max_sbs_qual_12m  \n",
       "0                             C               NORMAL  \n",
       "1                             S               NORMAL  \n",
       "2                             S               NORMAL  \n",
       "3                             S               NORMAL  \n",
       "4                             S               NORMAL  "
      ]
     },
     "execution_count": 6,
     "metadata": {},
     "output_type": "execute_result"
    }
   ],
   "source": [
    "x_df.head(5)"
   ]
  },
  {
   "cell_type": "markdown",
   "metadata": {},
   "source": [
    "## 4.Exploración y corrección de valores "
   ]
  },
  {
   "cell_type": "code",
   "execution_count": 7,
   "metadata": {},
   "outputs": [
    {
     "data": {
      "text/plain": [
       "var_max_sbs_qual_12m\n",
       "CPP            202\n",
       "DEFICIENTE      31\n",
       "DUDOSO           1\n",
       "NORMAL        1481\n",
       "PERDIDA          4\n",
       "dtype: int64"
      ]
     },
     "execution_count": 7,
     "metadata": {},
     "output_type": "execute_result"
    }
   ],
   "source": [
    "x_df.groupby('var_max_sbs_qual_12m').size()"
   ]
  },
  {
   "cell_type": "code",
   "execution_count": 8,
   "metadata": {},
   "outputs": [
    {
     "data": {
      "text/html": [
       "<div>\n",
       "<style scoped>\n",
       "    .dataframe tbody tr th:only-of-type {\n",
       "        vertical-align: middle;\n",
       "    }\n",
       "\n",
       "    .dataframe tbody tr th {\n",
       "        vertical-align: top;\n",
       "    }\n",
       "\n",
       "    .dataframe thead th {\n",
       "        text-align: right;\n",
       "    }\n",
       "</style>\n",
       "<table border=\"1\" class=\"dataframe\">\n",
       "  <thead>\n",
       "    <tr style=\"text-align: right;\">\n",
       "      <th></th>\n",
       "      <th>idPrestamo</th>\n",
       "      <th>monthly_debt_capacity</th>\n",
       "      <th>var_employment_time_in_months</th>\n",
       "      <th>approved_amount</th>\n",
       "      <th>approved_term</th>\n",
       "      <th>approved_interest_amount</th>\n",
       "      <th>var_net_income</th>\n",
       "      <th>credit_history_marital_status</th>\n",
       "      <th>var_max_sbs_qual_12m</th>\n",
       "    </tr>\n",
       "  </thead>\n",
       "  <tbody>\n",
       "    <tr>\n",
       "      <th>0</th>\n",
       "      <td>LIBDISP9832897855</td>\n",
       "      <td>252.389999</td>\n",
       "      <td>9.0</td>\n",
       "      <td>1200.0</td>\n",
       "      <td>6.0</td>\n",
       "      <td>289.109985</td>\n",
       "      <td>1140.125000</td>\n",
       "      <td>C</td>\n",
       "      <td>NORMAL</td>\n",
       "    </tr>\n",
       "    <tr>\n",
       "      <th>1</th>\n",
       "      <td>LIBDISP9021501745</td>\n",
       "      <td>244.570007</td>\n",
       "      <td>50.0</td>\n",
       "      <td>2200.0</td>\n",
       "      <td>12.0</td>\n",
       "      <td>696.150024</td>\n",
       "      <td>1061.375000</td>\n",
       "      <td>S</td>\n",
       "      <td>NORMAL</td>\n",
       "    </tr>\n",
       "    <tr>\n",
       "      <th>2</th>\n",
       "      <td>LIBDISP4057314971</td>\n",
       "      <td>491.500000</td>\n",
       "      <td>64.0</td>\n",
       "      <td>1000.0</td>\n",
       "      <td>3.0</td>\n",
       "      <td>84.989998</td>\n",
       "      <td>2082.196777</td>\n",
       "      <td>S</td>\n",
       "      <td>NORMAL</td>\n",
       "    </tr>\n",
       "    <tr>\n",
       "      <th>3</th>\n",
       "      <td>LIBDISP8375185888</td>\n",
       "      <td>848.650024</td>\n",
       "      <td>77.0</td>\n",
       "      <td>1500.0</td>\n",
       "      <td>6.0</td>\n",
       "      <td>221.529999</td>\n",
       "      <td>3422.423340</td>\n",
       "      <td>S</td>\n",
       "      <td>NORMAL</td>\n",
       "    </tr>\n",
       "    <tr>\n",
       "      <th>4</th>\n",
       "      <td>LIBDISP9694463037</td>\n",
       "      <td>470.519989</td>\n",
       "      <td>82.0</td>\n",
       "      <td>1000.0</td>\n",
       "      <td>3.0</td>\n",
       "      <td>91.339996</td>\n",
       "      <td>1882.089966</td>\n",
       "      <td>S</td>\n",
       "      <td>NORMAL</td>\n",
       "    </tr>\n",
       "  </tbody>\n",
       "</table>\n",
       "</div>"
      ],
      "text/plain": [
       "          idPrestamo  monthly_debt_capacity  var_employment_time_in_months  \\\n",
       "0  LIBDISP9832897855             252.389999                            9.0   \n",
       "1  LIBDISP9021501745             244.570007                           50.0   \n",
       "2  LIBDISP4057314971             491.500000                           64.0   \n",
       "3  LIBDISP8375185888             848.650024                           77.0   \n",
       "4  LIBDISP9694463037             470.519989                           82.0   \n",
       "\n",
       "   approved_amount  approved_term  approved_interest_amount  var_net_income  \\\n",
       "0           1200.0            6.0                289.109985     1140.125000   \n",
       "1           2200.0           12.0                696.150024     1061.375000   \n",
       "2           1000.0            3.0                 84.989998     2082.196777   \n",
       "3           1500.0            6.0                221.529999     3422.423340   \n",
       "4           1000.0            3.0                 91.339996     1882.089966   \n",
       "\n",
       "  credit_history_marital_status var_max_sbs_qual_12m  \n",
       "0                             C               NORMAL  \n",
       "1                             S               NORMAL  \n",
       "2                             S               NORMAL  \n",
       "3                             S               NORMAL  \n",
       "4                             S               NORMAL  "
      ]
     },
     "execution_count": 8,
     "metadata": {},
     "output_type": "execute_result"
    }
   ],
   "source": [
    "x_df[\"monthly_debt_capacity\"] = x_df[\"monthly_debt_capacity\"].replace(',','', regex=True)\n",
    "x_df[\"monthly_debt_capacity\"] = pd.to_numeric(x_df[\"monthly_debt_capacity\"], downcast=\"float\")\n",
    "\n",
    "x_df[\"approved_amount\"] = x_df[\"approved_amount\"].replace(',','', regex=True)\n",
    "x_df[\"approved_amount\"] = pd.to_numeric(x_df[\"approved_amount\"], downcast=\"float\")\n",
    "\n",
    "x_df[\"approved_term\"] = x_df[\"approved_term\"].replace(',','', regex=True)\n",
    "x_df[\"approved_term\"] = pd.to_numeric(x_df[\"approved_term\"], downcast=\"float\")\n",
    "\n",
    "x_df[\"approved_interest_amount\"] = x_df[\"approved_interest_amount\"].replace(',','', regex=True)\n",
    "x_df[\"approved_interest_amount\"] = pd.to_numeric(x_df[\"approved_interest_amount\"], downcast=\"float\")\n",
    "\n",
    "x_df[\"var_employment_time_in_months\"] = x_df[\"var_employment_time_in_months\"].replace(',','', regex=True)\n",
    "x_df[\"var_employment_time_in_months\"] = pd.to_numeric(x_df[\"var_employment_time_in_months\"], downcast=\"float\")\n",
    "\n",
    "x_df[\"var_net_income\"] = x_df[\"var_net_income\"].replace(',','', regex=True)\n",
    "x_df[\"var_net_income\"] = pd.to_numeric(x_df[\"var_net_income\"], downcast=\"float\")\n",
    "\n",
    "x_df.head()"
   ]
  },
  {
   "cell_type": "code",
   "execution_count": 9,
   "metadata": {},
   "outputs": [
    {
     "data": {
      "text/html": [
       "<div>\n",
       "<style scoped>\n",
       "    .dataframe tbody tr th:only-of-type {\n",
       "        vertical-align: middle;\n",
       "    }\n",
       "\n",
       "    .dataframe tbody tr th {\n",
       "        vertical-align: top;\n",
       "    }\n",
       "\n",
       "    .dataframe thead th {\n",
       "        text-align: right;\n",
       "    }\n",
       "</style>\n",
       "<table border=\"1\" class=\"dataframe\">\n",
       "  <thead>\n",
       "    <tr style=\"text-align: right;\">\n",
       "      <th></th>\n",
       "      <th>monthly_debt_capacity</th>\n",
       "      <th>var_employment_time_in_months</th>\n",
       "      <th>approved_amount</th>\n",
       "      <th>approved_term</th>\n",
       "      <th>approved_interest_amount</th>\n",
       "      <th>var_net_income</th>\n",
       "    </tr>\n",
       "  </thead>\n",
       "  <tbody>\n",
       "    <tr>\n",
       "      <th>count</th>\n",
       "      <td>1719.000000</td>\n",
       "      <td>1519.000000</td>\n",
       "      <td>1719.000000</td>\n",
       "      <td>1719.000000</td>\n",
       "      <td>1719.000000</td>\n",
       "      <td>1719.000000</td>\n",
       "    </tr>\n",
       "    <tr>\n",
       "      <th>mean</th>\n",
       "      <td>584.639465</td>\n",
       "      <td>33.979591</td>\n",
       "      <td>2136.998291</td>\n",
       "      <td>6.464805</td>\n",
       "      <td>407.185822</td>\n",
       "      <td>2693.545898</td>\n",
       "    </tr>\n",
       "    <tr>\n",
       "      <th>std</th>\n",
       "      <td>459.958893</td>\n",
       "      <td>26.889423</td>\n",
       "      <td>1504.944702</td>\n",
       "      <td>3.009842</td>\n",
       "      <td>407.703064</td>\n",
       "      <td>1825.694702</td>\n",
       "    </tr>\n",
       "    <tr>\n",
       "      <th>min</th>\n",
       "      <td>-158.750000</td>\n",
       "      <td>-1.000000</td>\n",
       "      <td>500.000000</td>\n",
       "      <td>1.000000</td>\n",
       "      <td>22.820000</td>\n",
       "      <td>0.000000</td>\n",
       "    </tr>\n",
       "    <tr>\n",
       "      <th>25%</th>\n",
       "      <td>350.760010</td>\n",
       "      <td>11.000000</td>\n",
       "      <td>1000.000000</td>\n",
       "      <td>6.000000</td>\n",
       "      <td>152.320007</td>\n",
       "      <td>1750.000000</td>\n",
       "    </tr>\n",
       "    <tr>\n",
       "      <th>50%</th>\n",
       "      <td>480.739990</td>\n",
       "      <td>26.000000</td>\n",
       "      <td>1500.000000</td>\n",
       "      <td>6.000000</td>\n",
       "      <td>281.390015</td>\n",
       "      <td>2373.758301</td>\n",
       "    </tr>\n",
       "    <tr>\n",
       "      <th>75%</th>\n",
       "      <td>660.820007</td>\n",
       "      <td>61.000000</td>\n",
       "      <td>2500.000000</td>\n",
       "      <td>6.000000</td>\n",
       "      <td>429.799988</td>\n",
       "      <td>3075.133423</td>\n",
       "    </tr>\n",
       "    <tr>\n",
       "      <th>max</th>\n",
       "      <td>7243.200195</td>\n",
       "      <td>87.000000</td>\n",
       "      <td>12200.000000</td>\n",
       "      <td>12.000000</td>\n",
       "      <td>2311.120117</td>\n",
       "      <td>28587.000000</td>\n",
       "    </tr>\n",
       "  </tbody>\n",
       "</table>\n",
       "</div>"
      ],
      "text/plain": [
       "       monthly_debt_capacity  var_employment_time_in_months  approved_amount  \\\n",
       "count            1719.000000                    1519.000000      1719.000000   \n",
       "mean              584.639465                      33.979591      2136.998291   \n",
       "std               459.958893                      26.889423      1504.944702   \n",
       "min              -158.750000                      -1.000000       500.000000   \n",
       "25%               350.760010                      11.000000      1000.000000   \n",
       "50%               480.739990                      26.000000      1500.000000   \n",
       "75%               660.820007                      61.000000      2500.000000   \n",
       "max              7243.200195                      87.000000     12200.000000   \n",
       "\n",
       "       approved_term  approved_interest_amount  var_net_income  \n",
       "count    1719.000000               1719.000000     1719.000000  \n",
       "mean        6.464805                407.185822     2693.545898  \n",
       "std         3.009842                407.703064     1825.694702  \n",
       "min         1.000000                 22.820000        0.000000  \n",
       "25%         6.000000                152.320007     1750.000000  \n",
       "50%         6.000000                281.390015     2373.758301  \n",
       "75%         6.000000                429.799988     3075.133423  \n",
       "max        12.000000               2311.120117    28587.000000  "
      ]
     },
     "execution_count": 9,
     "metadata": {},
     "output_type": "execute_result"
    }
   ],
   "source": [
    "x_df.describe()"
   ]
  },
  {
   "cell_type": "code",
   "execution_count": 10,
   "metadata": {
    "tags": []
   },
   "outputs": [
    {
     "data": {
      "image/png": "[encoded data removed]",
      "text/plain": [
       "<Figure size 432x288 with 6 Axes>"
      ]
     },
     "metadata": {
      "needs_background": "light"
     },
     "output_type": "display_data"
    }
   ],
   "source": [
    "x_df.hist();\n"
   ]
  },
  {
   "cell_type": "code",
   "execution_count": 11,
   "metadata": {},
   "outputs": [
    {
     "data": {
      "image/png": "[encoded data removed]",
      "text/plain": [
       "<Figure size 432x288 with 6 Axes>"
      ]
     },
     "metadata": {
      "needs_background": "light"
     },
     "output_type": "display_data"
    }
   ],
   "source": [
    "x_df.plot(kind='box', subplots=True);"
   ]
  },
  {
   "cell_type": "markdown",
   "metadata": {},
   "source": [
    "## 5.One hot encoding para columnas categóricas"
   ]
  },
  {
   "cell_type": "code",
   "execution_count": 12,
   "metadata": {
    "tags": []
   },
   "outputs": [
    {
     "name": "stderr",
     "output_type": "stream",
     "text": [
      "C:\\Users\\BP2549\\AppData\\Local\\Continuum\\miniconda3\\lib\\site-packages\\ipykernel_launcher.py:2: SettingWithCopyWarning: \n",
      "A value is trying to be set on a copy of a slice from a DataFrame\n",
      "\n",
      "See the caveats in the documentation: https://pandas.pydata.org/pandas-docs/stable/user_guide/indexing.html#returning-a-view-versus-a-copy\n",
      "  \n"
     ]
    }
   ],
   "source": [
    "for i,id in enumerate(x_df[\"idPrestamo\"]):\n",
    "    x_df['idPrestamo'][i]=i\n",
    "\n",
    "#check if theres that one step left / colab class\n",
    "x_df = pd.concat([x_df,pd.get_dummies(df['credit_history_marital_status'], prefix='CHMS')],axis=1)\n",
    "x_df.drop(['credit_history_marital_status'],axis=1, inplace=True)\n",
    "\n",
    "x_df = pd.concat([x_df,pd.get_dummies(df['var_max_sbs_qual_12m'], prefix='VMSQ12')],axis=1)\n",
    "x_df.drop(['var_max_sbs_qual_12m'],axis=1, inplace=True)\n"
   ]
  },
  {
   "cell_type": "code",
   "execution_count": 13,
   "metadata": {},
   "outputs": [
    {
     "data": {
      "text/html": [
       "<div>\n",
       "<style scoped>\n",
       "    .dataframe tbody tr th:only-of-type {\n",
       "        vertical-align: middle;\n",
       "    }\n",
       "\n",
       "    .dataframe tbody tr th {\n",
       "        vertical-align: top;\n",
       "    }\n",
       "\n",
       "    .dataframe thead th {\n",
       "        text-align: right;\n",
       "    }\n",
       "</style>\n",
       "<table border=\"1\" class=\"dataframe\">\n",
       "  <thead>\n",
       "    <tr style=\"text-align: right;\">\n",
       "      <th></th>\n",
       "      <th>idPrestamo</th>\n",
       "      <th>monthly_debt_capacity</th>\n",
       "      <th>var_employment_time_in_months</th>\n",
       "      <th>approved_amount</th>\n",
       "      <th>approved_term</th>\n",
       "      <th>approved_interest_amount</th>\n",
       "      <th>var_net_income</th>\n",
       "      <th>CHMS_C</th>\n",
       "      <th>CHMS_D</th>\n",
       "      <th>CHMS_S</th>\n",
       "      <th>CHMS_V</th>\n",
       "      <th>VMSQ12_CPP</th>\n",
       "      <th>VMSQ12_DEFICIENTE</th>\n",
       "      <th>VMSQ12_DUDOSO</th>\n",
       "      <th>VMSQ12_NORMAL</th>\n",
       "      <th>VMSQ12_PERDIDA</th>\n",
       "    </tr>\n",
       "  </thead>\n",
       "  <tbody>\n",
       "    <tr>\n",
       "      <th>0</th>\n",
       "      <td>0</td>\n",
       "      <td>252.389999</td>\n",
       "      <td>9.0</td>\n",
       "      <td>1200.0</td>\n",
       "      <td>6.0</td>\n",
       "      <td>289.109985</td>\n",
       "      <td>1140.125000</td>\n",
       "      <td>1</td>\n",
       "      <td>0</td>\n",
       "      <td>0</td>\n",
       "      <td>0</td>\n",
       "      <td>0</td>\n",
       "      <td>0</td>\n",
       "      <td>0</td>\n",
       "      <td>1</td>\n",
       "      <td>0</td>\n",
       "    </tr>\n",
       "    <tr>\n",
       "      <th>1</th>\n",
       "      <td>1</td>\n",
       "      <td>244.570007</td>\n",
       "      <td>50.0</td>\n",
       "      <td>2200.0</td>\n",
       "      <td>12.0</td>\n",
       "      <td>696.150024</td>\n",
       "      <td>1061.375000</td>\n",
       "      <td>0</td>\n",
       "      <td>0</td>\n",
       "      <td>1</td>\n",
       "      <td>0</td>\n",
       "      <td>0</td>\n",
       "      <td>0</td>\n",
       "      <td>0</td>\n",
       "      <td>1</td>\n",
       "      <td>0</td>\n",
       "    </tr>\n",
       "    <tr>\n",
       "      <th>2</th>\n",
       "      <td>2</td>\n",
       "      <td>491.500000</td>\n",
       "      <td>64.0</td>\n",
       "      <td>1000.0</td>\n",
       "      <td>3.0</td>\n",
       "      <td>84.989998</td>\n",
       "      <td>2082.196777</td>\n",
       "      <td>0</td>\n",
       "      <td>0</td>\n",
       "      <td>1</td>\n",
       "      <td>0</td>\n",
       "      <td>0</td>\n",
       "      <td>0</td>\n",
       "      <td>0</td>\n",
       "      <td>1</td>\n",
       "      <td>0</td>\n",
       "    </tr>\n",
       "    <tr>\n",
       "      <th>3</th>\n",
       "      <td>3</td>\n",
       "      <td>848.650024</td>\n",
       "      <td>77.0</td>\n",
       "      <td>1500.0</td>\n",
       "      <td>6.0</td>\n",
       "      <td>221.529999</td>\n",
       "      <td>3422.423340</td>\n",
       "      <td>0</td>\n",
       "      <td>0</td>\n",
       "      <td>1</td>\n",
       "      <td>0</td>\n",
       "      <td>0</td>\n",
       "      <td>0</td>\n",
       "      <td>0</td>\n",
       "      <td>1</td>\n",
       "      <td>0</td>\n",
       "    </tr>\n",
       "    <tr>\n",
       "      <th>4</th>\n",
       "      <td>4</td>\n",
       "      <td>470.519989</td>\n",
       "      <td>82.0</td>\n",
       "      <td>1000.0</td>\n",
       "      <td>3.0</td>\n",
       "      <td>91.339996</td>\n",
       "      <td>1882.089966</td>\n",
       "      <td>0</td>\n",
       "      <td>0</td>\n",
       "      <td>1</td>\n",
       "      <td>0</td>\n",
       "      <td>0</td>\n",
       "      <td>0</td>\n",
       "      <td>0</td>\n",
       "      <td>1</td>\n",
       "      <td>0</td>\n",
       "    </tr>\n",
       "  </tbody>\n",
       "</table>\n",
       "</div>"
      ],
      "text/plain": [
       "  idPrestamo  monthly_debt_capacity  var_employment_time_in_months  \\\n",
       "0          0             252.389999                            9.0   \n",
       "1          1             244.570007                           50.0   \n",
       "2          2             491.500000                           64.0   \n",
       "3          3             848.650024                           77.0   \n",
       "4          4             470.519989                           82.0   \n",
       "\n",
       "   approved_amount  approved_term  approved_interest_amount  var_net_income  \\\n",
       "0           1200.0            6.0                289.109985     1140.125000   \n",
       "1           2200.0           12.0                696.150024     1061.375000   \n",
       "2           1000.0            3.0                 84.989998     2082.196777   \n",
       "3           1500.0            6.0                221.529999     3422.423340   \n",
       "4           1000.0            3.0                 91.339996     1882.089966   \n",
       "\n",
       "   CHMS_C  CHMS_D  CHMS_S  CHMS_V  VMSQ12_CPP  VMSQ12_DEFICIENTE  \\\n",
       "0       1       0       0       0           0                  0   \n",
       "1       0       0       1       0           0                  0   \n",
       "2       0       0       1       0           0                  0   \n",
       "3       0       0       1       0           0                  0   \n",
       "4       0       0       1       0           0                  0   \n",
       "\n",
       "   VMSQ12_DUDOSO  VMSQ12_NORMAL  VMSQ12_PERDIDA  \n",
       "0              0              1               0  \n",
       "1              0              1               0  \n",
       "2              0              1               0  \n",
       "3              0              1               0  \n",
       "4              0              1               0  "
      ]
     },
     "execution_count": 13,
     "metadata": {},
     "output_type": "execute_result"
    }
   ],
   "source": [
    "x_df.head(5)"
   ]
  },
  {
   "cell_type": "code",
   "execution_count": 14,
   "metadata": {},
   "outputs": [
    {
     "data": {
      "image/png": "[encoded data removed]",
      "text/plain": [
       "<Figure size 432x288 with 1 Axes>"
      ]
     },
     "metadata": {
      "needs_background": "light"
     },
     "output_type": "display_data"
    }
   ],
   "source": [
    "x_df[\"monthly_debt_capacity\"].plot(kind='box', subplots=True);"
   ]
  },
  {
   "cell_type": "code",
   "execution_count": 15,
   "metadata": {},
   "outputs": [
    {
     "data": {
      "text/html": [
       "<div>\n",
       "<style scoped>\n",
       "    .dataframe tbody tr th:only-of-type {\n",
       "        vertical-align: middle;\n",
       "    }\n",
       "\n",
       "    .dataframe tbody tr th {\n",
       "        vertical-align: top;\n",
       "    }\n",
       "\n",
       "    .dataframe thead th {\n",
       "        text-align: right;\n",
       "    }\n",
       "</style>\n",
       "<table border=\"1\" class=\"dataframe\">\n",
       "  <thead>\n",
       "    <tr style=\"text-align: right;\">\n",
       "      <th></th>\n",
       "      <th>monthly_debt_capacity</th>\n",
       "      <th>var_employment_time_in_months</th>\n",
       "      <th>approved_amount</th>\n",
       "      <th>approved_term</th>\n",
       "      <th>approved_interest_amount</th>\n",
       "      <th>var_net_income</th>\n",
       "      <th>CHMS_C</th>\n",
       "      <th>CHMS_D</th>\n",
       "      <th>CHMS_S</th>\n",
       "      <th>CHMS_V</th>\n",
       "      <th>VMSQ12_CPP</th>\n",
       "      <th>VMSQ12_DEFICIENTE</th>\n",
       "      <th>VMSQ12_DUDOSO</th>\n",
       "      <th>VMSQ12_NORMAL</th>\n",
       "      <th>VMSQ12_PERDIDA</th>\n",
       "    </tr>\n",
       "  </thead>\n",
       "  <tbody>\n",
       "    <tr>\n",
       "      <th>count</th>\n",
       "      <td>1719.000000</td>\n",
       "      <td>1519.000000</td>\n",
       "      <td>1719.000000</td>\n",
       "      <td>1719.000000</td>\n",
       "      <td>1719.000000</td>\n",
       "      <td>1719.000000</td>\n",
       "      <td>1719.000000</td>\n",
       "      <td>1719.000000</td>\n",
       "      <td>1719.000000</td>\n",
       "      <td>1719.000000</td>\n",
       "      <td>1719.000000</td>\n",
       "      <td>1719.000000</td>\n",
       "      <td>1719.000000</td>\n",
       "      <td>1719.000000</td>\n",
       "      <td>1719.000000</td>\n",
       "    </tr>\n",
       "    <tr>\n",
       "      <th>mean</th>\n",
       "      <td>584.639465</td>\n",
       "      <td>33.979591</td>\n",
       "      <td>2136.998291</td>\n",
       "      <td>6.464805</td>\n",
       "      <td>407.185822</td>\n",
       "      <td>2693.545898</td>\n",
       "      <td>0.162885</td>\n",
       "      <td>0.007563</td>\n",
       "      <td>0.828970</td>\n",
       "      <td>0.000582</td>\n",
       "      <td>0.117510</td>\n",
       "      <td>0.018034</td>\n",
       "      <td>0.000582</td>\n",
       "      <td>0.861547</td>\n",
       "      <td>0.002327</td>\n",
       "    </tr>\n",
       "    <tr>\n",
       "      <th>std</th>\n",
       "      <td>459.958893</td>\n",
       "      <td>26.889423</td>\n",
       "      <td>1504.944702</td>\n",
       "      <td>3.009842</td>\n",
       "      <td>407.703064</td>\n",
       "      <td>1825.694702</td>\n",
       "      <td>0.369369</td>\n",
       "      <td>0.086659</td>\n",
       "      <td>0.376644</td>\n",
       "      <td>0.024119</td>\n",
       "      <td>0.322121</td>\n",
       "      <td>0.133112</td>\n",
       "      <td>0.024119</td>\n",
       "      <td>0.345475</td>\n",
       "      <td>0.048196</td>\n",
       "    </tr>\n",
       "    <tr>\n",
       "      <th>min</th>\n",
       "      <td>-158.750000</td>\n",
       "      <td>-1.000000</td>\n",
       "      <td>500.000000</td>\n",
       "      <td>1.000000</td>\n",
       "      <td>22.820000</td>\n",
       "      <td>0.000000</td>\n",
       "      <td>0.000000</td>\n",
       "      <td>0.000000</td>\n",
       "      <td>0.000000</td>\n",
       "      <td>0.000000</td>\n",
       "      <td>0.000000</td>\n",
       "      <td>0.000000</td>\n",
       "      <td>0.000000</td>\n",
       "      <td>0.000000</td>\n",
       "      <td>0.000000</td>\n",
       "    </tr>\n",
       "    <tr>\n",
       "      <th>25%</th>\n",
       "      <td>350.760010</td>\n",
       "      <td>11.000000</td>\n",
       "      <td>1000.000000</td>\n",
       "      <td>6.000000</td>\n",
       "      <td>152.320007</td>\n",
       "      <td>1750.000000</td>\n",
       "      <td>0.000000</td>\n",
       "      <td>0.000000</td>\n",
       "      <td>1.000000</td>\n",
       "      <td>0.000000</td>\n",
       "      <td>0.000000</td>\n",
       "      <td>0.000000</td>\n",
       "      <td>0.000000</td>\n",
       "      <td>1.000000</td>\n",
       "      <td>0.000000</td>\n",
       "    </tr>\n",
       "    <tr>\n",
       "      <th>50%</th>\n",
       "      <td>480.739990</td>\n",
       "      <td>26.000000</td>\n",
       "      <td>1500.000000</td>\n",
       "      <td>6.000000</td>\n",
       "      <td>281.390015</td>\n",
       "      <td>2373.758301</td>\n",
       "      <td>0.000000</td>\n",
       "      <td>0.000000</td>\n",
       "      <td>1.000000</td>\n",
       "      <td>0.000000</td>\n",
       "      <td>0.000000</td>\n",
       "      <td>0.000000</td>\n",
       "      <td>0.000000</td>\n",
       "      <td>1.000000</td>\n",
       "      <td>0.000000</td>\n",
       "    </tr>\n",
       "    <tr>\n",
       "      <th>75%</th>\n",
       "      <td>660.820007</td>\n",
       "      <td>61.000000</td>\n",
       "      <td>2500.000000</td>\n",
       "      <td>6.000000</td>\n",
       "      <td>429.799988</td>\n",
       "      <td>3075.133423</td>\n",
       "      <td>0.000000</td>\n",
       "      <td>0.000000</td>\n",
       "      <td>1.000000</td>\n",
       "      <td>0.000000</td>\n",
       "      <td>0.000000</td>\n",
       "      <td>0.000000</td>\n",
       "      <td>0.000000</td>\n",
       "      <td>1.000000</td>\n",
       "      <td>0.000000</td>\n",
       "    </tr>\n",
       "    <tr>\n",
       "      <th>max</th>\n",
       "      <td>7243.200195</td>\n",
       "      <td>87.000000</td>\n",
       "      <td>12200.000000</td>\n",
       "      <td>12.000000</td>\n",
       "      <td>2311.120117</td>\n",
       "      <td>28587.000000</td>\n",
       "      <td>1.000000</td>\n",
       "      <td>1.000000</td>\n",
       "      <td>1.000000</td>\n",
       "      <td>1.000000</td>\n",
       "      <td>1.000000</td>\n",
       "      <td>1.000000</td>\n",
       "      <td>1.000000</td>\n",
       "      <td>1.000000</td>\n",
       "      <td>1.000000</td>\n",
       "    </tr>\n",
       "  </tbody>\n",
       "</table>\n",
       "</div>"
      ],
      "text/plain": [
       "       monthly_debt_capacity  var_employment_time_in_months  approved_amount  \\\n",
       "count            1719.000000                    1519.000000      1719.000000   \n",
       "mean              584.639465                      33.979591      2136.998291   \n",
       "std               459.958893                      26.889423      1504.944702   \n",
       "min              -158.750000                      -1.000000       500.000000   \n",
       "25%               350.760010                      11.000000      1000.000000   \n",
       "50%               480.739990                      26.000000      1500.000000   \n",
       "75%               660.820007                      61.000000      2500.000000   \n",
       "max              7243.200195                      87.000000     12200.000000   \n",
       "\n",
       "       approved_term  approved_interest_amount  var_net_income       CHMS_C  \\\n",
       "count    1719.000000               1719.000000     1719.000000  1719.000000   \n",
       "mean        6.464805                407.185822     2693.545898     0.162885   \n",
       "std         3.009842                407.703064     1825.694702     0.369369   \n",
       "min         1.000000                 22.820000        0.000000     0.000000   \n",
       "25%         6.000000                152.320007     1750.000000     0.000000   \n",
       "50%         6.000000                281.390015     2373.758301     0.000000   \n",
       "75%         6.000000                429.799988     3075.133423     0.000000   \n",
       "max        12.000000               2311.120117    28587.000000     1.000000   \n",
       "\n",
       "            CHMS_D       CHMS_S       CHMS_V   VMSQ12_CPP  VMSQ12_DEFICIENTE  \\\n",
       "count  1719.000000  1719.000000  1719.000000  1719.000000        1719.000000   \n",
       "mean      0.007563     0.828970     0.000582     0.117510           0.018034   \n",
       "std       0.086659     0.376644     0.024119     0.322121           0.133112   \n",
       "min       0.000000     0.000000     0.000000     0.000000           0.000000   \n",
       "25%       0.000000     1.000000     0.000000     0.000000           0.000000   \n",
       "50%       0.000000     1.000000     0.000000     0.000000           0.000000   \n",
       "75%       0.000000     1.000000     0.000000     0.000000           0.000000   \n",
       "max       1.000000     1.000000     1.000000     1.000000           1.000000   \n",
       "\n",
       "       VMSQ12_DUDOSO  VMSQ12_NORMAL  VMSQ12_PERDIDA  \n",
       "count    1719.000000    1719.000000     1719.000000  \n",
       "mean        0.000582       0.861547        0.002327  \n",
       "std         0.024119       0.345475        0.048196  \n",
       "min         0.000000       0.000000        0.000000  \n",
       "25%         0.000000       1.000000        0.000000  \n",
       "50%         0.000000       1.000000        0.000000  \n",
       "75%         0.000000       1.000000        0.000000  \n",
       "max         1.000000       1.000000        1.000000  "
      ]
     },
     "execution_count": 15,
     "metadata": {},
     "output_type": "execute_result"
    }
   ],
   "source": [
    "x_df.describe()"
   ]
  },
  {
   "cell_type": "markdown",
   "metadata": {},
   "source": [
    "## 6.Reemplazamos Valores Faltantes\n"
   ]
  },
  {
   "cell_type": "code",
   "execution_count": 16,
   "metadata": {},
   "outputs": [
    {
     "data": {
      "text/plain": [
       "dtype('float32')"
      ]
     },
     "execution_count": 16,
     "metadata": {},
     "output_type": "execute_result"
    }
   ],
   "source": [
    "num_vars = x_df.select_dtypes(include=[\"int32\",\"float32\"]).columns\n",
    "x_df[\"approved_term\"].dtype"
   ]
  },
  {
   "cell_type": "code",
   "execution_count": 17,
   "metadata": {},
   "outputs": [
    {
     "data": {
      "text/plain": [
       "Index(['monthly_debt_capacity', 'var_employment_time_in_months',\n",
       "       'approved_amount', 'approved_term', 'approved_interest_amount',\n",
       "       'var_net_income'],\n",
       "      dtype='object')"
      ]
     },
     "execution_count": 17,
     "metadata": {},
     "output_type": "execute_result"
    }
   ],
   "source": [
    "num_vars "
   ]
  },
  {
   "cell_type": "code",
   "execution_count": 18,
   "metadata": {},
   "outputs": [
    {
     "data": {
      "text/plain": [
       "monthly_debt_capacity              0\n",
       "var_employment_time_in_months    200\n",
       "approved_amount                    0\n",
       "approved_term                      0\n",
       "approved_interest_amount           0\n",
       "var_net_income                     0\n",
       "dtype: int64"
      ]
     },
     "execution_count": 18,
     "metadata": {},
     "output_type": "execute_result"
    }
   ],
   "source": [
    "x_df[num_vars].isnull().sum()"
   ]
  },
  {
   "cell_type": "code",
   "execution_count": 19,
   "metadata": {},
   "outputs": [],
   "source": [
    "from sklearn.impute import SimpleImputer\n",
    "\n",
    "imputer_mean = SimpleImputer(strategy = \"mean\")"
   ]
  },
  {
   "cell_type": "code",
   "execution_count": 20,
   "metadata": {},
   "outputs": [
    {
     "data": {
      "text/plain": [
       "SimpleImputer()"
      ]
     },
     "execution_count": 20,
     "metadata": {},
     "output_type": "execute_result"
    }
   ],
   "source": [
    "imputer_mean.fit(x_df[num_vars])"
   ]
  },
  {
   "cell_type": "code",
   "execution_count": 21,
   "metadata": {},
   "outputs": [
    {
     "data": {
      "text/plain": [
       "array([ 584.63947062,   33.97959184, 2136.9982548 ,    6.46480512,\n",
       "        407.18582752, 2693.54595695])"
      ]
     },
     "execution_count": 21,
     "metadata": {},
     "output_type": "execute_result"
    }
   ],
   "source": [
    "imputer_mean.statistics_"
   ]
  },
  {
   "cell_type": "code",
   "execution_count": 22,
   "metadata": {},
   "outputs": [
    {
     "data": {
      "text/plain": [
       "array([[ 252.39  ,    9.    , 1200.    ,    6.    ,  289.11  , 1140.125 ],\n",
       "       [ 244.57  ,   50.    , 2200.    ,   12.    ,  696.15  , 1061.375 ],\n",
       "       [ 491.5   ,   64.    , 1000.    ,    3.    ,   84.99  , 2082.1968],\n",
       "       ...,\n",
       "       [ 692.13  ,   56.    , 2500.    ,    6.    ,  360.78  , 2768.5   ],\n",
       "       [ 410.28  ,   80.    ,  900.    ,    3.    ,   79.89  , 2139.2583],\n",
       "       [ 480.74  ,   12.    , 1000.    ,    3.    ,   84.99  , 2083.33  ]],\n",
       "      dtype=float32)"
      ]
     },
     "execution_count": 22,
     "metadata": {},
     "output_type": "execute_result"
    }
   ],
   "source": [
    "imputer_mean.transform(x_df[num_vars])"
   ]
  },
  {
   "cell_type": "code",
   "execution_count": 23,
   "metadata": {},
   "outputs": [],
   "source": [
    "x_df[num_vars] = imputer_mean.transform(x_df[num_vars])"
   ]
  },
  {
   "cell_type": "code",
   "execution_count": 24,
   "metadata": {},
   "outputs": [
    {
     "data": {
      "text/plain": [
       "monthly_debt_capacity            0\n",
       "var_employment_time_in_months    0\n",
       "approved_amount                  0\n",
       "approved_term                    0\n",
       "approved_interest_amount         0\n",
       "var_net_income                   0\n",
       "dtype: int64"
      ]
     },
     "execution_count": 24,
     "metadata": {},
     "output_type": "execute_result"
    }
   ],
   "source": [
    "x_df[num_vars].isnull().sum()"
   ]
  },
  {
   "cell_type": "markdown",
   "metadata": {},
   "source": [
    "## 7.Normalización"
   ]
  },
  {
   "cell_type": "code",
   "execution_count": 25,
   "metadata": {
    "tags": []
   },
   "outputs": [],
   "source": [
    "import pandas as pd\n",
    "from sklearn import preprocessing\n",
    "\n",
    "# x = x_df[\"monthly_debt_capacity\"].values #returns a numpy array\n",
    "#min_max_scaler = preprocessing.MinMaxScaler()\n",
    "#x_scaled_test = min_max_scaler.fit_transform(x_df[\"monthly_debt_capacity\"][:,np.newaxis])\n",
    "#df_test1 = pd.DataFrame(x_scaled_test)\n",
    "\n",
    "#X_normalized = preprocessing.normalize(x_df[\"monthly_debt_capacity\"][:,np.newaxis], norm='l2')\n",
    "#df_test = pd.DataFrame(X_normalized)\n",
    "\n",
    "\n",
    "# df_test1.head(10)\n",
    "# df_test1.describe()\n",
    "\n",
    "#x_df[\"monthly_debt_capacity\"]=x_scaled_test"
   ]
  },
  {
   "cell_type": "code",
   "execution_count": 26,
   "metadata": {},
   "outputs": [],
   "source": [
    "#x_df[\"monthly_debt_capacity\"].plot(kind='box', subplots=True)"
   ]
  },
  {
   "cell_type": "code",
   "execution_count": 27,
   "metadata": {
    "tags": []
   },
   "outputs": [
    {
     "data": {
      "text/html": [
       "<div>\n",
       "<style scoped>\n",
       "    .dataframe tbody tr th:only-of-type {\n",
       "        vertical-align: middle;\n",
       "    }\n",
       "\n",
       "    .dataframe tbody tr th {\n",
       "        vertical-align: top;\n",
       "    }\n",
       "\n",
       "    .dataframe thead th {\n",
       "        text-align: right;\n",
       "    }\n",
       "</style>\n",
       "<table border=\"1\" class=\"dataframe\">\n",
       "  <thead>\n",
       "    <tr style=\"text-align: right;\">\n",
       "      <th></th>\n",
       "      <th>idPrestamo</th>\n",
       "      <th>monthly_debt_capacity</th>\n",
       "      <th>var_employment_time_in_months</th>\n",
       "      <th>approved_amount</th>\n",
       "      <th>approved_term</th>\n",
       "      <th>approved_interest_amount</th>\n",
       "      <th>var_net_income</th>\n",
       "      <th>CHMS_C</th>\n",
       "      <th>CHMS_D</th>\n",
       "      <th>CHMS_S</th>\n",
       "      <th>CHMS_V</th>\n",
       "      <th>VMSQ12_CPP</th>\n",
       "      <th>VMSQ12_DEFICIENTE</th>\n",
       "      <th>VMSQ12_DUDOSO</th>\n",
       "      <th>VMSQ12_NORMAL</th>\n",
       "      <th>VMSQ12_PERDIDA</th>\n",
       "    </tr>\n",
       "  </thead>\n",
       "  <tbody>\n",
       "    <tr>\n",
       "      <th>0</th>\n",
       "      <td>0</td>\n",
       "      <td>252.389999</td>\n",
       "      <td>9.000000</td>\n",
       "      <td>1200.0</td>\n",
       "      <td>6.0</td>\n",
       "      <td>289.109985</td>\n",
       "      <td>1140.125000</td>\n",
       "      <td>1</td>\n",
       "      <td>0</td>\n",
       "      <td>0</td>\n",
       "      <td>0</td>\n",
       "      <td>0</td>\n",
       "      <td>0</td>\n",
       "      <td>0</td>\n",
       "      <td>1</td>\n",
       "      <td>0</td>\n",
       "    </tr>\n",
       "    <tr>\n",
       "      <th>1</th>\n",
       "      <td>1</td>\n",
       "      <td>244.570007</td>\n",
       "      <td>50.000000</td>\n",
       "      <td>2200.0</td>\n",
       "      <td>12.0</td>\n",
       "      <td>696.150024</td>\n",
       "      <td>1061.375000</td>\n",
       "      <td>0</td>\n",
       "      <td>0</td>\n",
       "      <td>1</td>\n",
       "      <td>0</td>\n",
       "      <td>0</td>\n",
       "      <td>0</td>\n",
       "      <td>0</td>\n",
       "      <td>1</td>\n",
       "      <td>0</td>\n",
       "    </tr>\n",
       "    <tr>\n",
       "      <th>2</th>\n",
       "      <td>2</td>\n",
       "      <td>491.500000</td>\n",
       "      <td>64.000000</td>\n",
       "      <td>1000.0</td>\n",
       "      <td>3.0</td>\n",
       "      <td>84.989998</td>\n",
       "      <td>2082.196777</td>\n",
       "      <td>0</td>\n",
       "      <td>0</td>\n",
       "      <td>1</td>\n",
       "      <td>0</td>\n",
       "      <td>0</td>\n",
       "      <td>0</td>\n",
       "      <td>0</td>\n",
       "      <td>1</td>\n",
       "      <td>0</td>\n",
       "    </tr>\n",
       "    <tr>\n",
       "      <th>3</th>\n",
       "      <td>3</td>\n",
       "      <td>848.650024</td>\n",
       "      <td>77.000000</td>\n",
       "      <td>1500.0</td>\n",
       "      <td>6.0</td>\n",
       "      <td>221.529999</td>\n",
       "      <td>3422.423340</td>\n",
       "      <td>0</td>\n",
       "      <td>0</td>\n",
       "      <td>1</td>\n",
       "      <td>0</td>\n",
       "      <td>0</td>\n",
       "      <td>0</td>\n",
       "      <td>0</td>\n",
       "      <td>1</td>\n",
       "      <td>0</td>\n",
       "    </tr>\n",
       "    <tr>\n",
       "      <th>4</th>\n",
       "      <td>4</td>\n",
       "      <td>470.519989</td>\n",
       "      <td>82.000000</td>\n",
       "      <td>1000.0</td>\n",
       "      <td>3.0</td>\n",
       "      <td>91.339996</td>\n",
       "      <td>1882.089966</td>\n",
       "      <td>0</td>\n",
       "      <td>0</td>\n",
       "      <td>1</td>\n",
       "      <td>0</td>\n",
       "      <td>0</td>\n",
       "      <td>0</td>\n",
       "      <td>0</td>\n",
       "      <td>1</td>\n",
       "      <td>0</td>\n",
       "    </tr>\n",
       "    <tr>\n",
       "      <th>5</th>\n",
       "      <td>5</td>\n",
       "      <td>490.769989</td>\n",
       "      <td>79.000000</td>\n",
       "      <td>1500.0</td>\n",
       "      <td>6.0</td>\n",
       "      <td>221.529999</td>\n",
       "      <td>2448.016602</td>\n",
       "      <td>0</td>\n",
       "      <td>0</td>\n",
       "      <td>1</td>\n",
       "      <td>0</td>\n",
       "      <td>0</td>\n",
       "      <td>0</td>\n",
       "      <td>0</td>\n",
       "      <td>1</td>\n",
       "      <td>0</td>\n",
       "    </tr>\n",
       "    <tr>\n",
       "      <th>6</th>\n",
       "      <td>6</td>\n",
       "      <td>428.570007</td>\n",
       "      <td>71.000000</td>\n",
       "      <td>4000.0</td>\n",
       "      <td>12.0</td>\n",
       "      <td>1109.560059</td>\n",
       "      <td>1803.923340</td>\n",
       "      <td>0</td>\n",
       "      <td>0</td>\n",
       "      <td>1</td>\n",
       "      <td>0</td>\n",
       "      <td>0</td>\n",
       "      <td>0</td>\n",
       "      <td>0</td>\n",
       "      <td>1</td>\n",
       "      <td>0</td>\n",
       "    </tr>\n",
       "    <tr>\n",
       "      <th>7</th>\n",
       "      <td>7</td>\n",
       "      <td>647.869995</td>\n",
       "      <td>4.000000</td>\n",
       "      <td>1200.0</td>\n",
       "      <td>6.0</td>\n",
       "      <td>289.109985</td>\n",
       "      <td>2660.629883</td>\n",
       "      <td>0</td>\n",
       "      <td>0</td>\n",
       "      <td>1</td>\n",
       "      <td>0</td>\n",
       "      <td>0</td>\n",
       "      <td>0</td>\n",
       "      <td>0</td>\n",
       "      <td>1</td>\n",
       "      <td>0</td>\n",
       "    </tr>\n",
       "    <tr>\n",
       "      <th>8</th>\n",
       "      <td>8</td>\n",
       "      <td>694.229980</td>\n",
       "      <td>33.979591</td>\n",
       "      <td>900.0</td>\n",
       "      <td>6.0</td>\n",
       "      <td>149.789993</td>\n",
       "      <td>2912.158447</td>\n",
       "      <td>1</td>\n",
       "      <td>0</td>\n",
       "      <td>0</td>\n",
       "      <td>0</td>\n",
       "      <td>1</td>\n",
       "      <td>0</td>\n",
       "      <td>0</td>\n",
       "      <td>0</td>\n",
       "      <td>0</td>\n",
       "    </tr>\n",
       "    <tr>\n",
       "      <th>9</th>\n",
       "      <td>9</td>\n",
       "      <td>209.479996</td>\n",
       "      <td>77.000000</td>\n",
       "      <td>1000.0</td>\n",
       "      <td>6.0</td>\n",
       "      <td>152.320007</td>\n",
       "      <td>2498.043213</td>\n",
       "      <td>0</td>\n",
       "      <td>0</td>\n",
       "      <td>1</td>\n",
       "      <td>0</td>\n",
       "      <td>0</td>\n",
       "      <td>0</td>\n",
       "      <td>0</td>\n",
       "      <td>1</td>\n",
       "      <td>0</td>\n",
       "    </tr>\n",
       "  </tbody>\n",
       "</table>\n",
       "</div>"
      ],
      "text/plain": [
       "  idPrestamo  monthly_debt_capacity  var_employment_time_in_months  \\\n",
       "0          0             252.389999                       9.000000   \n",
       "1          1             244.570007                      50.000000   \n",
       "2          2             491.500000                      64.000000   \n",
       "3          3             848.650024                      77.000000   \n",
       "4          4             470.519989                      82.000000   \n",
       "5          5             490.769989                      79.000000   \n",
       "6          6             428.570007                      71.000000   \n",
       "7          7             647.869995                       4.000000   \n",
       "8          8             694.229980                      33.979591   \n",
       "9          9             209.479996                      77.000000   \n",
       "\n",
       "   approved_amount  approved_term  approved_interest_amount  var_net_income  \\\n",
       "0           1200.0            6.0                289.109985     1140.125000   \n",
       "1           2200.0           12.0                696.150024     1061.375000   \n",
       "2           1000.0            3.0                 84.989998     2082.196777   \n",
       "3           1500.0            6.0                221.529999     3422.423340   \n",
       "4           1000.0            3.0                 91.339996     1882.089966   \n",
       "5           1500.0            6.0                221.529999     2448.016602   \n",
       "6           4000.0           12.0               1109.560059     1803.923340   \n",
       "7           1200.0            6.0                289.109985     2660.629883   \n",
       "8            900.0            6.0                149.789993     2912.158447   \n",
       "9           1000.0            6.0                152.320007     2498.043213   \n",
       "\n",
       "   CHMS_C  CHMS_D  CHMS_S  CHMS_V  VMSQ12_CPP  VMSQ12_DEFICIENTE  \\\n",
       "0       1       0       0       0           0                  0   \n",
       "1       0       0       1       0           0                  0   \n",
       "2       0       0       1       0           0                  0   \n",
       "3       0       0       1       0           0                  0   \n",
       "4       0       0       1       0           0                  0   \n",
       "5       0       0       1       0           0                  0   \n",
       "6       0       0       1       0           0                  0   \n",
       "7       0       0       1       0           0                  0   \n",
       "8       1       0       0       0           1                  0   \n",
       "9       0       0       1       0           0                  0   \n",
       "\n",
       "   VMSQ12_DUDOSO  VMSQ12_NORMAL  VMSQ12_PERDIDA  \n",
       "0              0              1               0  \n",
       "1              0              1               0  \n",
       "2              0              1               0  \n",
       "3              0              1               0  \n",
       "4              0              1               0  \n",
       "5              0              1               0  \n",
       "6              0              1               0  \n",
       "7              0              1               0  \n",
       "8              0              0               0  \n",
       "9              0              1               0  "
      ]
     },
     "execution_count": 27,
     "metadata": {},
     "output_type": "execute_result"
    }
   ],
   "source": [
    "x_df.head(10)\n"
   ]
  },
  {
   "cell_type": "markdown",
   "metadata": {},
   "source": [
    "## 8.Definición de columna Idprestamo como Índices"
   ]
  },
  {
   "cell_type": "code",
   "execution_count": 28,
   "metadata": {},
   "outputs": [],
   "source": [
    "x_df = x_df.set_index(\"idPrestamo\")"
   ]
  },
  {
   "cell_type": "markdown",
   "metadata": {},
   "source": [
    "Dropping the negative value that was in the column : monthly_debt_capacity"
   ]
  },
  {
   "cell_type": "code",
   "execution_count": 29,
   "metadata": {},
   "outputs": [
    {
     "data": {
      "text/html": [
       "<div>\n",
       "<style scoped>\n",
       "    .dataframe tbody tr th:only-of-type {\n",
       "        vertical-align: middle;\n",
       "    }\n",
       "\n",
       "    .dataframe tbody tr th {\n",
       "        vertical-align: top;\n",
       "    }\n",
       "\n",
       "    .dataframe thead th {\n",
       "        text-align: right;\n",
       "    }\n",
       "</style>\n",
       "<table border=\"1\" class=\"dataframe\">\n",
       "  <thead>\n",
       "    <tr style=\"text-align: right;\">\n",
       "      <th></th>\n",
       "      <th>monthly_debt_capacity</th>\n",
       "      <th>var_employment_time_in_months</th>\n",
       "      <th>approved_amount</th>\n",
       "      <th>approved_term</th>\n",
       "      <th>approved_interest_amount</th>\n",
       "      <th>var_net_income</th>\n",
       "      <th>CHMS_C</th>\n",
       "      <th>CHMS_D</th>\n",
       "      <th>CHMS_S</th>\n",
       "      <th>CHMS_V</th>\n",
       "      <th>VMSQ12_CPP</th>\n",
       "      <th>VMSQ12_DEFICIENTE</th>\n",
       "      <th>VMSQ12_DUDOSO</th>\n",
       "      <th>VMSQ12_NORMAL</th>\n",
       "      <th>VMSQ12_PERDIDA</th>\n",
       "    </tr>\n",
       "    <tr>\n",
       "      <th>idPrestamo</th>\n",
       "      <th></th>\n",
       "      <th></th>\n",
       "      <th></th>\n",
       "      <th></th>\n",
       "      <th></th>\n",
       "      <th></th>\n",
       "      <th></th>\n",
       "      <th></th>\n",
       "      <th></th>\n",
       "      <th></th>\n",
       "      <th></th>\n",
       "      <th></th>\n",
       "      <th></th>\n",
       "      <th></th>\n",
       "      <th></th>\n",
       "    </tr>\n",
       "  </thead>\n",
       "  <tbody>\n",
       "  </tbody>\n",
       "</table>\n",
       "</div>"
      ],
      "text/plain": [
       "Empty DataFrame\n",
       "Columns: [monthly_debt_capacity, var_employment_time_in_months, approved_amount, approved_term, approved_interest_amount, var_net_income, CHMS_C, CHMS_D, CHMS_S, CHMS_V, VMSQ12_CPP, VMSQ12_DEFICIENTE, VMSQ12_DUDOSO, VMSQ12_NORMAL, VMSQ12_PERDIDA]\n",
       "Index: []"
      ]
     },
     "execution_count": 29,
     "metadata": {},
     "output_type": "execute_result"
    }
   ],
   "source": [
    "\n",
    "indexPoorValue = x_df[x_df[\"monthly_debt_capacity\"]<0].index[0]\n",
    "x_df =x_df.drop([indexPoorValue])\n",
    "y_df =y_df.drop([indexPoorValue])\n",
    "x_df[x_df[\"monthly_debt_capacity\"]<0]\n"
   ]
  },
  {
   "cell_type": "code",
   "execution_count": 30,
   "metadata": {},
   "outputs": [
    {
     "data": {
      "text/html": [
       "<div>\n",
       "<style scoped>\n",
       "    .dataframe tbody tr th:only-of-type {\n",
       "        vertical-align: middle;\n",
       "    }\n",
       "\n",
       "    .dataframe tbody tr th {\n",
       "        vertical-align: top;\n",
       "    }\n",
       "\n",
       "    .dataframe thead th {\n",
       "        text-align: right;\n",
       "    }\n",
       "</style>\n",
       "<table border=\"1\" class=\"dataframe\">\n",
       "  <thead>\n",
       "    <tr style=\"text-align: right;\">\n",
       "      <th></th>\n",
       "      <th>monthly_debt_capacity</th>\n",
       "      <th>var_employment_time_in_months</th>\n",
       "      <th>approved_amount</th>\n",
       "      <th>approved_term</th>\n",
       "      <th>approved_interest_amount</th>\n",
       "      <th>var_net_income</th>\n",
       "      <th>CHMS_C</th>\n",
       "      <th>CHMS_D</th>\n",
       "      <th>CHMS_S</th>\n",
       "      <th>CHMS_V</th>\n",
       "      <th>VMSQ12_CPP</th>\n",
       "      <th>VMSQ12_DEFICIENTE</th>\n",
       "      <th>VMSQ12_DUDOSO</th>\n",
       "      <th>VMSQ12_NORMAL</th>\n",
       "      <th>VMSQ12_PERDIDA</th>\n",
       "    </tr>\n",
       "  </thead>\n",
       "  <tbody>\n",
       "    <tr>\n",
       "      <th>0</th>\n",
       "      <td>0.148534</td>\n",
       "      <td>0.005297</td>\n",
       "      <td>0.706214</td>\n",
       "      <td>0.003531</td>\n",
       "      <td>0.170145</td>\n",
       "      <td>0.670977</td>\n",
       "      <td>0.000589</td>\n",
       "      <td>0.0</td>\n",
       "      <td>0.000000</td>\n",
       "      <td>0.0</td>\n",
       "      <td>0.0</td>\n",
       "      <td>0.0</td>\n",
       "      <td>0.0</td>\n",
       "      <td>0.000589</td>\n",
       "      <td>0.0</td>\n",
       "    </tr>\n",
       "    <tr>\n",
       "      <th>1</th>\n",
       "      <td>0.095828</td>\n",
       "      <td>0.019591</td>\n",
       "      <td>0.862010</td>\n",
       "      <td>0.004702</td>\n",
       "      <td>0.272767</td>\n",
       "      <td>0.415871</td>\n",
       "      <td>0.000000</td>\n",
       "      <td>0.0</td>\n",
       "      <td>0.000392</td>\n",
       "      <td>0.0</td>\n",
       "      <td>0.0</td>\n",
       "      <td>0.0</td>\n",
       "      <td>0.0</td>\n",
       "      <td>0.000392</td>\n",
       "      <td>0.0</td>\n",
       "    </tr>\n",
       "    <tr>\n",
       "      <th>2</th>\n",
       "      <td>0.207911</td>\n",
       "      <td>0.027073</td>\n",
       "      <td>0.423014</td>\n",
       "      <td>0.001269</td>\n",
       "      <td>0.035952</td>\n",
       "      <td>0.880798</td>\n",
       "      <td>0.000000</td>\n",
       "      <td>0.0</td>\n",
       "      <td>0.000423</td>\n",
       "      <td>0.0</td>\n",
       "      <td>0.0</td>\n",
       "      <td>0.0</td>\n",
       "      <td>0.0</td>\n",
       "      <td>0.000423</td>\n",
       "      <td>0.0</td>\n",
       "    </tr>\n",
       "    <tr>\n",
       "      <th>3</th>\n",
       "      <td>0.221058</td>\n",
       "      <td>0.020057</td>\n",
       "      <td>0.390723</td>\n",
       "      <td>0.001563</td>\n",
       "      <td>0.057705</td>\n",
       "      <td>0.891479</td>\n",
       "      <td>0.000000</td>\n",
       "      <td>0.0</td>\n",
       "      <td>0.000260</td>\n",
       "      <td>0.0</td>\n",
       "      <td>0.0</td>\n",
       "      <td>0.0</td>\n",
       "      <td>0.0</td>\n",
       "      <td>0.000260</td>\n",
       "      <td>0.0</td>\n",
       "    </tr>\n",
       "    <tr>\n",
       "      <th>4</th>\n",
       "      <td>0.215239</td>\n",
       "      <td>0.037511</td>\n",
       "      <td>0.457450</td>\n",
       "      <td>0.001372</td>\n",
       "      <td>0.041783</td>\n",
       "      <td>0.860962</td>\n",
       "      <td>0.000000</td>\n",
       "      <td>0.0</td>\n",
       "      <td>0.000457</td>\n",
       "      <td>0.0</td>\n",
       "      <td>0.0</td>\n",
       "      <td>0.0</td>\n",
       "      <td>0.0</td>\n",
       "      <td>0.000457</td>\n",
       "      <td>0.0</td>\n",
       "    </tr>\n",
       "  </tbody>\n",
       "</table>\n",
       "</div>"
      ],
      "text/plain": [
       "   monthly_debt_capacity  var_employment_time_in_months  approved_amount  \\\n",
       "0               0.148534                       0.005297         0.706214   \n",
       "1               0.095828                       0.019591         0.862010   \n",
       "2               0.207911                       0.027073         0.423014   \n",
       "3               0.221058                       0.020057         0.390723   \n",
       "4               0.215239                       0.037511         0.457450   \n",
       "\n",
       "   approved_term  approved_interest_amount  var_net_income    CHMS_C  CHMS_D  \\\n",
       "0       0.003531                  0.170145        0.670977  0.000589     0.0   \n",
       "1       0.004702                  0.272767        0.415871  0.000000     0.0   \n",
       "2       0.001269                  0.035952        0.880798  0.000000     0.0   \n",
       "3       0.001563                  0.057705        0.891479  0.000000     0.0   \n",
       "4       0.001372                  0.041783        0.860962  0.000000     0.0   \n",
       "\n",
       "     CHMS_S  CHMS_V  VMSQ12_CPP  VMSQ12_DEFICIENTE  VMSQ12_DUDOSO  \\\n",
       "0  0.000000     0.0         0.0                0.0            0.0   \n",
       "1  0.000392     0.0         0.0                0.0            0.0   \n",
       "2  0.000423     0.0         0.0                0.0            0.0   \n",
       "3  0.000260     0.0         0.0                0.0            0.0   \n",
       "4  0.000457     0.0         0.0                0.0            0.0   \n",
       "\n",
       "   VMSQ12_NORMAL  VMSQ12_PERDIDA  \n",
       "0       0.000589             0.0  \n",
       "1       0.000392             0.0  \n",
       "2       0.000423             0.0  \n",
       "3       0.000260             0.0  \n",
       "4       0.000457             0.0  "
      ]
     },
     "execution_count": 30,
     "metadata": {},
     "output_type": "execute_result"
    }
   ],
   "source": [
    "normalizer = preprocessing.Normalizer().fit(x_df)\n",
    "test =normalizer.transform(x_df)\n",
    "columnsDF = x_df.columns\n",
    "x_df = pd.DataFrame(data = test, columns = columnsDF)\n",
    "x_df.head()"
   ]
  },
  {
   "cell_type": "code",
   "execution_count": 31,
   "metadata": {},
   "outputs": [
    {
     "data": {
      "text/plain": [
       "monthly_debt_capacity    AxesSubplot(0.125,0.125;0.775x0.755)\n",
       "dtype: object"
      ]
     },
     "execution_count": 31,
     "metadata": {},
     "output_type": "execute_result"
    },
    {
     "data": {
      "image/png": "[encoded data removed]",
      "text/plain": [
       "<Figure size 432x288 with 1 Axes>"
      ]
     },
     "metadata": {
      "needs_background": "light"
     },
     "output_type": "display_data"
    }
   ],
   "source": [
    "x_df[\"monthly_debt_capacity\"].plot(kind='box', subplots=True)"
   ]
  },
  {
   "cell_type": "markdown",
   "metadata": {},
   "source": [
    "## Splitting dataset into 80-20/ HOLDOUT SETS"
   ]
  },
  {
   "cell_type": "code",
   "execution_count": 32,
   "metadata": {},
   "outputs": [
    {
     "data": {
      "text/html": [
       "<div>\n",
       "<style scoped>\n",
       "    .dataframe tbody tr th:only-of-type {\n",
       "        vertical-align: middle;\n",
       "    }\n",
       "\n",
       "    .dataframe tbody tr th {\n",
       "        vertical-align: top;\n",
       "    }\n",
       "\n",
       "    .dataframe thead th {\n",
       "        text-align: right;\n",
       "    }\n",
       "</style>\n",
       "<table border=\"1\" class=\"dataframe\">\n",
       "  <thead>\n",
       "    <tr style=\"text-align: right;\">\n",
       "      <th></th>\n",
       "      <th>monthly_debt_capacity</th>\n",
       "      <th>var_employment_time_in_months</th>\n",
       "      <th>approved_amount</th>\n",
       "      <th>approved_term</th>\n",
       "      <th>approved_interest_amount</th>\n",
       "      <th>var_net_income</th>\n",
       "      <th>CHMS_C</th>\n",
       "      <th>CHMS_D</th>\n",
       "      <th>CHMS_S</th>\n",
       "      <th>CHMS_V</th>\n",
       "      <th>VMSQ12_CPP</th>\n",
       "      <th>VMSQ12_DEFICIENTE</th>\n",
       "      <th>VMSQ12_DUDOSO</th>\n",
       "      <th>VMSQ12_NORMAL</th>\n",
       "      <th>VMSQ12_PERDIDA</th>\n",
       "    </tr>\n",
       "  </thead>\n",
       "  <tbody>\n",
       "    <tr>\n",
       "      <th>0</th>\n",
       "      <td>0.148534</td>\n",
       "      <td>0.005297</td>\n",
       "      <td>0.706214</td>\n",
       "      <td>0.003531</td>\n",
       "      <td>0.170145</td>\n",
       "      <td>0.670977</td>\n",
       "      <td>0.000589</td>\n",
       "      <td>0.0</td>\n",
       "      <td>0.000000</td>\n",
       "      <td>0.0</td>\n",
       "      <td>0.0</td>\n",
       "      <td>0.0</td>\n",
       "      <td>0.0</td>\n",
       "      <td>0.000589</td>\n",
       "      <td>0.0</td>\n",
       "    </tr>\n",
       "    <tr>\n",
       "      <th>1</th>\n",
       "      <td>0.095828</td>\n",
       "      <td>0.019591</td>\n",
       "      <td>0.862010</td>\n",
       "      <td>0.004702</td>\n",
       "      <td>0.272767</td>\n",
       "      <td>0.415871</td>\n",
       "      <td>0.000000</td>\n",
       "      <td>0.0</td>\n",
       "      <td>0.000392</td>\n",
       "      <td>0.0</td>\n",
       "      <td>0.0</td>\n",
       "      <td>0.0</td>\n",
       "      <td>0.0</td>\n",
       "      <td>0.000392</td>\n",
       "      <td>0.0</td>\n",
       "    </tr>\n",
       "    <tr>\n",
       "      <th>2</th>\n",
       "      <td>0.207911</td>\n",
       "      <td>0.027073</td>\n",
       "      <td>0.423014</td>\n",
       "      <td>0.001269</td>\n",
       "      <td>0.035952</td>\n",
       "      <td>0.880798</td>\n",
       "      <td>0.000000</td>\n",
       "      <td>0.0</td>\n",
       "      <td>0.000423</td>\n",
       "      <td>0.0</td>\n",
       "      <td>0.0</td>\n",
       "      <td>0.0</td>\n",
       "      <td>0.0</td>\n",
       "      <td>0.000423</td>\n",
       "      <td>0.0</td>\n",
       "    </tr>\n",
       "    <tr>\n",
       "      <th>3</th>\n",
       "      <td>0.221058</td>\n",
       "      <td>0.020057</td>\n",
       "      <td>0.390723</td>\n",
       "      <td>0.001563</td>\n",
       "      <td>0.057705</td>\n",
       "      <td>0.891479</td>\n",
       "      <td>0.000000</td>\n",
       "      <td>0.0</td>\n",
       "      <td>0.000260</td>\n",
       "      <td>0.0</td>\n",
       "      <td>0.0</td>\n",
       "      <td>0.0</td>\n",
       "      <td>0.0</td>\n",
       "      <td>0.000260</td>\n",
       "      <td>0.0</td>\n",
       "    </tr>\n",
       "    <tr>\n",
       "      <th>4</th>\n",
       "      <td>0.215239</td>\n",
       "      <td>0.037511</td>\n",
       "      <td>0.457450</td>\n",
       "      <td>0.001372</td>\n",
       "      <td>0.041783</td>\n",
       "      <td>0.860962</td>\n",
       "      <td>0.000000</td>\n",
       "      <td>0.0</td>\n",
       "      <td>0.000457</td>\n",
       "      <td>0.0</td>\n",
       "      <td>0.0</td>\n",
       "      <td>0.0</td>\n",
       "      <td>0.0</td>\n",
       "      <td>0.000457</td>\n",
       "      <td>0.0</td>\n",
       "    </tr>\n",
       "  </tbody>\n",
       "</table>\n",
       "</div>"
      ],
      "text/plain": [
       "   monthly_debt_capacity  var_employment_time_in_months  approved_amount  \\\n",
       "0               0.148534                       0.005297         0.706214   \n",
       "1               0.095828                       0.019591         0.862010   \n",
       "2               0.207911                       0.027073         0.423014   \n",
       "3               0.221058                       0.020057         0.390723   \n",
       "4               0.215239                       0.037511         0.457450   \n",
       "\n",
       "   approved_term  approved_interest_amount  var_net_income    CHMS_C  CHMS_D  \\\n",
       "0       0.003531                  0.170145        0.670977  0.000589     0.0   \n",
       "1       0.004702                  0.272767        0.415871  0.000000     0.0   \n",
       "2       0.001269                  0.035952        0.880798  0.000000     0.0   \n",
       "3       0.001563                  0.057705        0.891479  0.000000     0.0   \n",
       "4       0.001372                  0.041783        0.860962  0.000000     0.0   \n",
       "\n",
       "     CHMS_S  CHMS_V  VMSQ12_CPP  VMSQ12_DEFICIENTE  VMSQ12_DUDOSO  \\\n",
       "0  0.000000     0.0         0.0                0.0            0.0   \n",
       "1  0.000392     0.0         0.0                0.0            0.0   \n",
       "2  0.000423     0.0         0.0                0.0            0.0   \n",
       "3  0.000260     0.0         0.0                0.0            0.0   \n",
       "4  0.000457     0.0         0.0                0.0            0.0   \n",
       "\n",
       "   VMSQ12_NORMAL  VMSQ12_PERDIDA  \n",
       "0       0.000589             0.0  \n",
       "1       0.000392             0.0  \n",
       "2       0.000423             0.0  \n",
       "3       0.000260             0.0  \n",
       "4       0.000457             0.0  "
      ]
     },
     "execution_count": 32,
     "metadata": {},
     "output_type": "execute_result"
    }
   ],
   "source": [
    "x_df.head()"
   ]
  },
  {
   "cell_type": "code",
   "execution_count": 33,
   "metadata": {},
   "outputs": [],
   "source": [
    "splitIndex = int(x_df.shape[0]*0.8)\n",
    "X_train = x_df.iloc[:splitIndex].to_numpy()\n",
    "X_test = x_df.iloc[splitIndex:].to_numpy()\n",
    "\n",
    "Y_train = y_df.iloc[:splitIndex].to_numpy()\n",
    "Y_test = y_df.iloc[splitIndex:].to_numpy()"
   ]
  },
  {
   "cell_type": "code",
   "execution_count": 34,
   "metadata": {},
   "outputs": [],
   "source": [
    "from tensorflow import keras\n",
    "from tensorflow.keras import Sequential\n",
    "from tensorflow.keras.layers import Dense"
   ]
  },
  {
   "cell_type": "code",
   "execution_count": 35,
   "metadata": {
    "tags": []
   },
   "outputs": [],
   "source": [
    "model = Sequential([Dense(2, input_dim=X_test.shape[1], activation='relu'),\n",
    "                    Dense(30,activation='relu'),\n",
    "                    Dense(60,activation='relu'),\n",
    "                    Dense(100,activation='relu'),\n",
    "                    Dense(40,activation='relu'),\n",
    "                    Dense(32,activation='relu'),\n",
    "                    Dense(2, activation='relu')])\n",
    "model.compile(optimizer='adam', loss='binary_crossentropy', metrics=['accuracy'])"
   ]
  },
  {
   "cell_type": "code",
   "execution_count": 36,
   "metadata": {
    "tags": []
   },
   "outputs": [],
   "source": [
    "#hist = model.fit(X_train, Y_train, epochs=150, batch_size=400, verbose=2)"
   ]
  },
  {
   "cell_type": "code",
   "execution_count": 37,
   "metadata": {
    "tags": []
   },
   "outputs": [
    {
     "name": "stdout",
     "output_type": "stream",
     "text": [
      "1374\n",
      "344\n"
     ]
    }
   ],
   "source": [
    "print(X_train.shape[0])\n",
    "print(Y_test.shape[0])\n",
    "#model.evaluate(X_test, Y_test)"
   ]
  },
  {
   "cell_type": "code",
   "execution_count": 38,
   "metadata": {},
   "outputs": [],
   "source": [
    "from sklearn.neighbors import KNeighborsClassifier\n",
    "from sklearn.metrics import accuracy_score\n",
    "model = KNeighborsClassifier(n_neighbors=60)"
   ]
  },
  {
   "cell_type": "code",
   "execution_count": 39,
   "metadata": {},
   "outputs": [
    {
     "data": {
      "text/plain": [
       "0.7034883720930233"
      ]
     },
     "execution_count": 39,
     "metadata": {},
     "output_type": "execute_result"
    }
   ],
   "source": [
    "model.fit(X_train, Y_train)\n",
    "y2_model = model.predict(X_test)\n",
    "accuracy_score(Y_test, y2_model)"
   ]
  },
  {
   "cell_type": "code",
   "execution_count": 40,
   "metadata": {},
   "outputs": [
    {
     "data": {
      "text/plain": [
       "array([0.71014493, 0.71014493, 0.76811594, 0.65217391, 0.69565217,\n",
       "       0.69565217, 0.69565217, 0.69565217, 0.76811594, 0.75362319,\n",
       "       0.68115942, 0.76811594, 0.73913043, 0.72463768, 0.75      ,\n",
       "       0.75      , 0.73529412, 0.70588235, 0.75      , 0.76470588])"
      ]
     },
     "execution_count": 40,
     "metadata": {},
     "output_type": "execute_result"
    }
   ],
   "source": [
    "from sklearn.model_selection import cross_val_score\n",
    "cross_val_score(model, X_train,Y_train, cv=20)"
   ]
  },
  {
   "cell_type": "markdown",
   "metadata": {},
   "source": [
    "## Decision Tree Model"
   ]
  },
  {
   "cell_type": "code",
   "execution_count": 41,
   "metadata": {},
   "outputs": [],
   "source": [
    "from sklearn import tree\n",
    "\n",
    "clf = tree.DecisionTreeClassifier()\n",
    "clf = clf.fit(X_train, Y_train)"
   ]
  },
  {
   "cell_type": "code",
   "execution_count": 42,
   "metadata": {},
   "outputs": [],
   "source": [
    "#tree.plot_tree(clf);\n"
   ]
  },
  {
   "cell_type": "code",
   "execution_count": 43,
   "metadata": {},
   "outputs": [],
   "source": [
    "y2_dtModel = clf.predict(X_test)"
   ]
  },
  {
   "cell_type": "code",
   "execution_count": 44,
   "metadata": {},
   "outputs": [
    {
     "data": {
      "text/plain": [
       "0.6104651162790697"
      ]
     },
     "execution_count": 44,
     "metadata": {},
     "output_type": "execute_result"
    }
   ],
   "source": [
    "\n",
    "accuracy_score(Y_test, y2_dtModel)"
   ]
  },
  {
   "cell_type": "code",
   "execution_count": 45,
   "metadata": {},
   "outputs": [
    {
     "data": {
      "text/plain": [
       "array([0.59782609, 0.58695652, 0.65217391, 0.66304348, 0.58695652,\n",
       "       0.70652174, 0.63043478, 0.59782609, 0.66304348, 0.67032967,\n",
       "       0.63736264, 0.64835165, 0.61538462, 0.62637363, 0.62637363])"
      ]
     },
     "execution_count": 45,
     "metadata": {},
     "output_type": "execute_result"
    }
   ],
   "source": [
    "from sklearn.model_selection import cross_val_score\n",
    "cross_val_score(clf, X_train, Y_train, cv=15)"
   ]
  },
  {
   "cell_type": "code",
   "execution_count": 46,
   "metadata": {},
   "outputs": [
    {
     "data": {
      "text/plain": [
       "array([1., 0., 1., ..., 1., 1., 1.])"
      ]
     },
     "execution_count": 46,
     "metadata": {},
     "output_type": "execute_result"
    }
   ],
   "source": [
    "from sklearn.model_selection import LeaveOneOut\n",
    "scores = cross_val_score(clf, X_train, Y_train, cv=LeaveOneOut())\n",
    "scores"
   ]
  },
  {
   "cell_type": "code",
   "execution_count": 47,
   "metadata": {},
   "outputs": [
    {
     "data": {
      "text/plain": [
       "0.641193595342067"
      ]
     },
     "execution_count": 47,
     "metadata": {},
     "output_type": "execute_result"
    }
   ],
   "source": [
    "scores.mean()"
   ]
  },
  {
   "cell_type": "markdown",
   "metadata": {},
   "source": [
    "## Logistic Regression"
   ]
  },
  {
   "cell_type": "markdown",
   "metadata": {},
   "source": [
    "### Importamos la libreria"
   ]
  },
  {
   "cell_type": "code",
   "execution_count": 48,
   "metadata": {},
   "outputs": [],
   "source": [
    "from sklearn.linear_model import LogisticRegression"
   ]
  },
  {
   "cell_type": "markdown",
   "metadata": {},
   "source": [
    "### Instanciamos y entrenamos el modelo"
   ]
  },
  {
   "cell_type": "code",
   "execution_count": 49,
   "metadata": {},
   "outputs": [],
   "source": [
    "clf_LR = LogisticRegression(random_state=0).fit(X_train, Y_train)"
   ]
  },
  {
   "cell_type": "markdown",
   "metadata": {},
   "source": [
    "### Obtenemos el score"
   ]
  },
  {
   "cell_type": "code",
   "execution_count": 50,
   "metadata": {},
   "outputs": [
    {
     "data": {
      "text/plain": [
       "0.7034883720930233"
      ]
     },
     "execution_count": 50,
     "metadata": {},
     "output_type": "execute_result"
    }
   ],
   "source": [
    "y_LRModel = clf_LR.predict(X_test)\n",
    "\n",
    "clf_LR.score(X_test, Y_test)"
   ]
  },
  {
   "cell_type": "markdown",
   "metadata": {},
   "source": [
    "## XGBoost"
   ]
  },
  {
   "cell_type": "code",
   "execution_count": 51,
   "metadata": {},
   "outputs": [],
   "source": [
    "import xgboost as xgb\n",
    "dtrain = xgb.DMatrix(X_train,Y_train)\n",
    "dtest = xgb.DMatrix(X_test)"
   ]
  },
  {
   "cell_type": "code",
   "execution_count": 52,
   "metadata": {},
   "outputs": [],
   "source": [
    "params = {\n",
    "    'n_estimators': 100,\n",
    "    'colsample_bytree': 0.8,\n",
    "    'objective': 'binary:logistic',\n",
    "    'max_depth': 7,\n",
    "    'min_child_weight': 1,\n",
    "    'learning_rate': 0.1,\n",
    "    'subsample': 0.8,    \n",
    "    'eta': 0.2\n",
    "}"
   ]
  },
  {
   "cell_type": "code",
   "execution_count": 54,
   "metadata": {},
   "outputs": [
    {
     "name": "stdout",
     "output_type": "stream",
     "text": [
      "[21:32:19] WARNING: C:\\Users\\Administrator\\workspace\\xgboost-win64_release_1.2.0\\src\\learner.cc:516: \n",
      "Parameters: { n_estimators } might not be used.\n",
      "\n",
      "  This may not be accurate due to some parameters are only used in language bindings but\n",
      "  passed down to XGBoost core.  Or some parameters are not used but slip through this\n",
      "  verification. Please open an issue if you find above cases.\n",
      "\n",
      "\n",
      "[21:32:19] WARNING: C:\\Users\\Administrator\\workspace\\xgboost-win64_release_1.2.0\\src\\learner.cc:516: \n",
      "Parameters: { n_estimators } might not be used.\n",
      "\n",
      "  This may not be accurate due to some parameters are only used in language bindings but\n",
      "  passed down to XGBoost core.  Or some parameters are not used but slip through this\n",
      "  verification. Please open an issue if you find above cases.\n",
      "\n",
      "\n",
      "[21:32:19] WARNING: C:\\Users\\Administrator\\workspace\\xgboost-win64_release_1.2.0\\src\\learner.cc:516: \n",
      "Parameters: { n_estimators } might not be used.\n",
      "\n",
      "  This may not be accurate due to some parameters are only used in language bindings but\n",
      "  passed down to XGBoost core.  Or some parameters are not used but slip through this\n",
      "  verification. Please open an issue if you find above cases.\n",
      "\n",
      "\n",
      "[21:32:19] WARNING: C:\\Users\\Administrator\\workspace\\xgboost-win64_release_1.2.0\\src\\learner.cc:516: \n",
      "Parameters: { n_estimators } might not be used.\n",
      "\n",
      "  This may not be accurate due to some parameters are only used in language bindings but\n",
      "  passed down to XGBoost core.  Or some parameters are not used but slip through this\n",
      "  verification. Please open an issue if you find above cases.\n",
      "\n",
      "\n",
      "[21:32:19] WARNING: C:\\Users\\Administrator\\workspace\\xgboost-win64_release_1.2.0\\src\\learner.cc:516: \n",
      "Parameters: { n_estimators } might not be used.\n",
      "\n",
      "  This may not be accurate due to some parameters are only used in language bindings but\n",
      "  passed down to XGBoost core.  Or some parameters are not used but slip through this\n",
      "  verification. Please open an issue if you find above cases.\n",
      "\n",
      "\n"
     ]
    }
   ],
   "source": [
    "model = xgb.cv(\n",
    "    params=params,\n",
    "    dtrain=dtrain,\n",
    "    num_boost_round=500,\n",
    "    nfold=5,\n",
    "    early_stopping_rounds=100\n",
    ")"
   ]
  },
  {
   "cell_type": "code",
   "execution_count": 55,
   "metadata": {},
   "outputs": [
    {
     "name": "stdout",
     "output_type": "stream",
     "text": [
      "[21:32:29] WARNING: C:\\Users\\Administrator\\workspace\\xgboost-win64_release_1.2.0\\src\\learner.cc:516: \n",
      "Parameters: { n_estimators } might not be used.\n",
      "\n",
      "  This may not be accurate due to some parameters are only used in language bindings but\n",
      "  passed down to XGBoost core.  Or some parameters are not used but slip through this\n",
      "  verification. Please open an issue if you find above cases.\n",
      "\n",
      "\n"
     ]
    }
   ],
   "source": [
    "num_round = 10\n",
    "bst = xgb.train(params, dtrain, num_boost_round=len(model))"
   ]
  },
  {
   "cell_type": "code",
   "execution_count": 56,
   "metadata": {},
   "outputs": [
    {
     "name": "stdout",
     "output_type": "stream",
     "text": [
      "0.4812362030905078\n"
     ]
    }
   ],
   "source": [
    "from sklearn.metrics import f1_score\n",
    "\n",
    "preds = bst.predict(dtest)\n",
    "\n",
    "for i in range(len(preds)):\n",
    "    if preds[i]<0.8:\n",
    "      preds[i]=1\n",
    "    else:\n",
    "      preds[i]=0\n",
    "\n",
    "f1 = f1_score(Y_test, preds)\n",
    "print(f1)"
   ]
  },
  {
   "cell_type": "code",
   "execution_count": null,
   "metadata": {},
   "outputs": [],
   "source": []
  }
 ],
 "metadata": {
  "colab": {
   "authorship_tag": "ABX9TyMT1y+WNKKysoxwoi1XlMiJ",
   "include_colab_link": true,
   "name": "TP_Machine Learning.ipynb",
   "provenance": []
  },
  "kernelspec": {
   "display_name": "Python 3",
   "language": "python",
   "name": "python3"
  },
  "language_info": {
   "codemirror_mode": {
    "name": "ipython",
    "version": 3
   },
   "file_extension": ".py",
   "mimetype": "text/x-python",
   "name": "python",
   "nbconvert_exporter": "python",
   "pygments_lexer": "ipython3",
   "version": "3.7.4"
  }
 },
 "nbformat": 4,
 "nbformat_minor": 1
}
